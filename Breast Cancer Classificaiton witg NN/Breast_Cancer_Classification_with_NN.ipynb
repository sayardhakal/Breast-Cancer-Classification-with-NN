{
  "nbformat": 4,
  "nbformat_minor": 0,
  "metadata": {
    "colab": {
      "provenance": []
    },
    "kernelspec": {
      "name": "python3",
      "display_name": "Python 3"
    },
    "language_info": {
      "name": "python"
    }
  },
  "cells": [
    {
      "cell_type": "markdown",
      "source": [
        "# Importing the dependencies"
      ],
      "metadata": {
        "id": "oYoYq2Ay16Vs"
      }
    },
    {
      "cell_type": "code",
      "execution_count": 1,
      "metadata": {
        "id": "WVb1GGStzhi5"
      },
      "outputs": [],
      "source": [
        "import numpy as np\n",
        "import pandas as pd\n",
        "import matplotlib.pyplot as plt\n",
        "from sklearn.model_selection import train_test_split\n",
        "import sklearn.datasets"
      ]
    },
    {
      "cell_type": "code",
      "source": [
        "# loading breast cancer dataset from sklearn\n",
        "breast_cancer_dataset = sklearn.datasets.load_breast_cancer()"
      ],
      "metadata": {
        "id": "6v9VDNy32I_R"
      },
      "execution_count": 2,
      "outputs": []
    },
    {
      "cell_type": "code",
      "source": [
        "#printing the dataset\n",
        "print(breast_cancer_dataset)"
      ],
      "metadata": {
        "colab": {
          "base_uri": "https://localhost:8080/"
        },
        "id": "iTc-40pl3KfO",
        "outputId": "b3b5ec87-2978-41d7-f119-88c6d5ba64d6"
      },
      "execution_count": 4,
      "outputs": [
        {
          "output_type": "stream",
          "name": "stdout",
          "text": [
            "{'data': array([[1.799e+01, 1.038e+01, 1.228e+02, ..., 2.654e-01, 4.601e-01,\n",
            "        1.189e-01],\n",
            "       [2.057e+01, 1.777e+01, 1.329e+02, ..., 1.860e-01, 2.750e-01,\n",
            "        8.902e-02],\n",
            "       [1.969e+01, 2.125e+01, 1.300e+02, ..., 2.430e-01, 3.613e-01,\n",
            "        8.758e-02],\n",
            "       ...,\n",
            "       [1.660e+01, 2.808e+01, 1.083e+02, ..., 1.418e-01, 2.218e-01,\n",
            "        7.820e-02],\n",
            "       [2.060e+01, 2.933e+01, 1.401e+02, ..., 2.650e-01, 4.087e-01,\n",
            "        1.240e-01],\n",
            "       [7.760e+00, 2.454e+01, 4.792e+01, ..., 0.000e+00, 2.871e-01,\n",
            "        7.039e-02]]), 'target': array([0, 0, 0, 0, 0, 0, 0, 0, 0, 0, 0, 0, 0, 0, 0, 0, 0, 0, 0, 1, 1, 1,\n",
            "       0, 0, 0, 0, 0, 0, 0, 0, 0, 0, 0, 0, 0, 0, 0, 1, 0, 0, 0, 0, 0, 0,\n",
            "       0, 0, 1, 0, 1, 1, 1, 1, 1, 0, 0, 1, 0, 0, 1, 1, 1, 1, 0, 1, 0, 0,\n",
            "       1, 1, 1, 1, 0, 1, 0, 0, 1, 0, 1, 0, 0, 1, 1, 1, 0, 0, 1, 0, 0, 0,\n",
            "       1, 1, 1, 0, 1, 1, 0, 0, 1, 1, 1, 0, 0, 1, 1, 1, 1, 0, 1, 1, 0, 1,\n",
            "       1, 1, 1, 1, 1, 1, 1, 0, 0, 0, 1, 0, 0, 1, 1, 1, 0, 0, 1, 0, 1, 0,\n",
            "       0, 1, 0, 0, 1, 1, 0, 1, 1, 0, 1, 1, 1, 1, 0, 1, 1, 1, 1, 1, 1, 1,\n",
            "       1, 1, 0, 1, 1, 1, 1, 0, 0, 1, 0, 1, 1, 0, 0, 1, 1, 0, 0, 1, 1, 1,\n",
            "       1, 0, 1, 1, 0, 0, 0, 1, 0, 1, 0, 1, 1, 1, 0, 1, 1, 0, 0, 1, 0, 0,\n",
            "       0, 0, 1, 0, 0, 0, 1, 0, 1, 0, 1, 1, 0, 1, 0, 0, 0, 0, 1, 1, 0, 0,\n",
            "       1, 1, 1, 0, 1, 1, 1, 1, 1, 0, 0, 1, 1, 0, 1, 1, 0, 0, 1, 0, 1, 1,\n",
            "       1, 1, 0, 1, 1, 1, 1, 1, 0, 1, 0, 0, 0, 0, 0, 0, 0, 0, 0, 0, 0, 0,\n",
            "       0, 0, 1, 1, 1, 1, 1, 1, 0, 1, 0, 1, 1, 0, 1, 1, 0, 1, 0, 0, 1, 1,\n",
            "       1, 1, 1, 1, 1, 1, 1, 1, 1, 1, 1, 0, 1, 1, 0, 1, 0, 1, 1, 1, 1, 1,\n",
            "       1, 1, 1, 1, 1, 1, 1, 1, 1, 0, 1, 1, 1, 0, 1, 0, 1, 1, 1, 1, 0, 0,\n",
            "       0, 1, 1, 1, 1, 0, 1, 0, 1, 0, 1, 1, 1, 0, 1, 1, 1, 1, 1, 1, 1, 0,\n",
            "       0, 0, 1, 1, 1, 1, 1, 1, 1, 1, 1, 1, 1, 0, 0, 1, 0, 0, 0, 1, 0, 0,\n",
            "       1, 1, 1, 1, 1, 0, 1, 1, 1, 1, 1, 0, 1, 1, 1, 0, 1, 1, 0, 0, 1, 1,\n",
            "       1, 1, 1, 1, 0, 1, 1, 1, 1, 1, 1, 1, 0, 1, 1, 1, 1, 1, 0, 1, 1, 0,\n",
            "       1, 1, 1, 1, 1, 1, 1, 1, 1, 1, 1, 1, 0, 1, 0, 0, 1, 0, 1, 1, 1, 1,\n",
            "       1, 0, 1, 1, 0, 1, 0, 1, 1, 0, 1, 0, 1, 1, 1, 1, 1, 1, 1, 1, 0, 0,\n",
            "       1, 1, 1, 1, 1, 1, 0, 1, 1, 1, 1, 1, 1, 1, 1, 1, 1, 0, 1, 1, 1, 1,\n",
            "       1, 1, 1, 0, 1, 0, 1, 1, 0, 1, 1, 1, 1, 1, 0, 0, 1, 0, 1, 0, 1, 1,\n",
            "       1, 1, 1, 0, 1, 1, 0, 1, 0, 1, 0, 0, 1, 1, 1, 0, 1, 1, 1, 1, 1, 1,\n",
            "       1, 1, 1, 1, 1, 0, 1, 0, 0, 1, 1, 1, 1, 1, 1, 1, 1, 1, 1, 1, 1, 1,\n",
            "       1, 1, 1, 1, 1, 1, 1, 1, 1, 1, 1, 1, 0, 0, 0, 0, 0, 0, 1]), 'frame': None, 'target_names': array(['malignant', 'benign'], dtype='<U9'), 'DESCR': '.. _breast_cancer_dataset:\\n\\nBreast cancer wisconsin (diagnostic) dataset\\n--------------------------------------------\\n\\n**Data Set Characteristics:**\\n\\n    :Number of Instances: 569\\n\\n    :Number of Attributes: 30 numeric, predictive attributes and the class\\n\\n    :Attribute Information:\\n        - radius (mean of distances from center to points on the perimeter)\\n        - texture (standard deviation of gray-scale values)\\n        - perimeter\\n        - area\\n        - smoothness (local variation in radius lengths)\\n        - compactness (perimeter^2 / area - 1.0)\\n        - concavity (severity of concave portions of the contour)\\n        - concave points (number of concave portions of the contour)\\n        - symmetry\\n        - fractal dimension (\"coastline approximation\" - 1)\\n\\n        The mean, standard error, and \"worst\" or largest (mean of the three\\n        worst/largest values) of these features were computed for each image,\\n        resulting in 30 features.  For instance, field 0 is Mean Radius, field\\n        10 is Radius SE, field 20 is Worst Radius.\\n\\n        - class:\\n                - WDBC-Malignant\\n                - WDBC-Benign\\n\\n    :Summary Statistics:\\n\\n    ===================================== ====== ======\\n                                           Min    Max\\n    ===================================== ====== ======\\n    radius (mean):                        6.981  28.11\\n    texture (mean):                       9.71   39.28\\n    perimeter (mean):                     43.79  188.5\\n    area (mean):                          143.5  2501.0\\n    smoothness (mean):                    0.053  0.163\\n    compactness (mean):                   0.019  0.345\\n    concavity (mean):                     0.0    0.427\\n    concave points (mean):                0.0    0.201\\n    symmetry (mean):                      0.106  0.304\\n    fractal dimension (mean):             0.05   0.097\\n    radius (standard error):              0.112  2.873\\n    texture (standard error):             0.36   4.885\\n    perimeter (standard error):           0.757  21.98\\n    area (standard error):                6.802  542.2\\n    smoothness (standard error):          0.002  0.031\\n    compactness (standard error):         0.002  0.135\\n    concavity (standard error):           0.0    0.396\\n    concave points (standard error):      0.0    0.053\\n    symmetry (standard error):            0.008  0.079\\n    fractal dimension (standard error):   0.001  0.03\\n    radius (worst):                       7.93   36.04\\n    texture (worst):                      12.02  49.54\\n    perimeter (worst):                    50.41  251.2\\n    area (worst):                         185.2  4254.0\\n    smoothness (worst):                   0.071  0.223\\n    compactness (worst):                  0.027  1.058\\n    concavity (worst):                    0.0    1.252\\n    concave points (worst):               0.0    0.291\\n    symmetry (worst):                     0.156  0.664\\n    fractal dimension (worst):            0.055  0.208\\n    ===================================== ====== ======\\n\\n    :Missing Attribute Values: None\\n\\n    :Class Distribution: 212 - Malignant, 357 - Benign\\n\\n    :Creator:  Dr. William H. Wolberg, W. Nick Street, Olvi L. Mangasarian\\n\\n    :Donor: Nick Street\\n\\n    :Date: November, 1995\\n\\nThis is a copy of UCI ML Breast Cancer Wisconsin (Diagnostic) datasets.\\nhttps://goo.gl/U2Uwz2\\n\\nFeatures are computed from a digitized image of a fine needle\\naspirate (FNA) of a breast mass.  They describe\\ncharacteristics of the cell nuclei present in the image.\\n\\nSeparating plane described above was obtained using\\nMultisurface Method-Tree (MSM-T) [K. P. Bennett, \"Decision Tree\\nConstruction Via Linear Programming.\" Proceedings of the 4th\\nMidwest Artificial Intelligence and Cognitive Science Society,\\npp. 97-101, 1992], a classification method which uses linear\\nprogramming to construct a decision tree.  Relevant features\\nwere selected using an exhaustive search in the space of 1-4\\nfeatures and 1-3 separating planes.\\n\\nThe actual linear program used to obtain the separating plane\\nin the 3-dimensional space is that described in:\\n[K. P. Bennett and O. L. Mangasarian: \"Robust Linear\\nProgramming Discrimination of Two Linearly Inseparable Sets\",\\nOptimization Methods and Software 1, 1992, 23-34].\\n\\nThis database is also available through the UW CS ftp server:\\n\\nftp ftp.cs.wisc.edu\\ncd math-prog/cpo-dataset/machine-learn/WDBC/\\n\\n.. topic:: References\\n\\n   - W.N. Street, W.H. Wolberg and O.L. Mangasarian. Nuclear feature extraction \\n     for breast tumor diagnosis. IS&T/SPIE 1993 International Symposium on \\n     Electronic Imaging: Science and Technology, volume 1905, pages 861-870,\\n     San Jose, CA, 1993.\\n   - O.L. Mangasarian, W.N. Street and W.H. Wolberg. Breast cancer diagnosis and \\n     prognosis via linear programming. Operations Research, 43(4), pages 570-577, \\n     July-August 1995.\\n   - W.H. Wolberg, W.N. Street, and O.L. Mangasarian. Machine learning techniques\\n     to diagnose breast cancer from fine-needle aspirates. Cancer Letters 77 (1994) \\n     163-171.', 'feature_names': array(['mean radius', 'mean texture', 'mean perimeter', 'mean area',\n",
            "       'mean smoothness', 'mean compactness', 'mean concavity',\n",
            "       'mean concave points', 'mean symmetry', 'mean fractal dimension',\n",
            "       'radius error', 'texture error', 'perimeter error', 'area error',\n",
            "       'smoothness error', 'compactness error', 'concavity error',\n",
            "       'concave points error', 'symmetry error',\n",
            "       'fractal dimension error', 'worst radius', 'worst texture',\n",
            "       'worst perimeter', 'worst area', 'worst smoothness',\n",
            "       'worst compactness', 'worst concavity', 'worst concave points',\n",
            "       'worst symmetry', 'worst fractal dimension'], dtype='<U23'), 'filename': 'breast_cancer.csv', 'data_module': 'sklearn.datasets.data'}\n"
          ]
        }
      ]
    },
    {
      "cell_type": "code",
      "source": [
        "#Converting the dataset into pandas dataframe for more structured table\n",
        "cancer_dataset = pd.DataFrame(breast_cancer_dataset.data, columns= breast_cancer_dataset.feature_names)"
      ],
      "metadata": {
        "id": "MS_j3-Hb3Pzk"
      },
      "execution_count": 5,
      "outputs": []
    },
    {
      "cell_type": "code",
      "source": [
        "#displaying the first five rows of the dataframe\n",
        "cancer_dataset.head()"
      ],
      "metadata": {
        "colab": {
          "base_uri": "https://localhost:8080/",
          "height": 334
        },
        "id": "VA1F4uJ33s2F",
        "outputId": "212227b2-c2f3-4cea-a609-9ff7c4a1fec6"
      },
      "execution_count": 6,
      "outputs": [
        {
          "output_type": "execute_result",
          "data": {
            "text/plain": [
              "   mean radius  mean texture  mean perimeter  mean area  mean smoothness  \\\n",
              "0        17.99         10.38          122.80     1001.0          0.11840   \n",
              "1        20.57         17.77          132.90     1326.0          0.08474   \n",
              "2        19.69         21.25          130.00     1203.0          0.10960   \n",
              "3        11.42         20.38           77.58      386.1          0.14250   \n",
              "4        20.29         14.34          135.10     1297.0          0.10030   \n",
              "\n",
              "   mean compactness  mean concavity  mean concave points  mean symmetry  \\\n",
              "0           0.27760          0.3001              0.14710         0.2419   \n",
              "1           0.07864          0.0869              0.07017         0.1812   \n",
              "2           0.15990          0.1974              0.12790         0.2069   \n",
              "3           0.28390          0.2414              0.10520         0.2597   \n",
              "4           0.13280          0.1980              0.10430         0.1809   \n",
              "\n",
              "   mean fractal dimension  ...  worst radius  worst texture  worst perimeter  \\\n",
              "0                 0.07871  ...         25.38          17.33           184.60   \n",
              "1                 0.05667  ...         24.99          23.41           158.80   \n",
              "2                 0.05999  ...         23.57          25.53           152.50   \n",
              "3                 0.09744  ...         14.91          26.50            98.87   \n",
              "4                 0.05883  ...         22.54          16.67           152.20   \n",
              "\n",
              "   worst area  worst smoothness  worst compactness  worst concavity  \\\n",
              "0      2019.0            0.1622             0.6656           0.7119   \n",
              "1      1956.0            0.1238             0.1866           0.2416   \n",
              "2      1709.0            0.1444             0.4245           0.4504   \n",
              "3       567.7            0.2098             0.8663           0.6869   \n",
              "4      1575.0            0.1374             0.2050           0.4000   \n",
              "\n",
              "   worst concave points  worst symmetry  worst fractal dimension  \n",
              "0                0.2654          0.4601                  0.11890  \n",
              "1                0.1860          0.2750                  0.08902  \n",
              "2                0.2430          0.3613                  0.08758  \n",
              "3                0.2575          0.6638                  0.17300  \n",
              "4                0.1625          0.2364                  0.07678  \n",
              "\n",
              "[5 rows x 30 columns]"
            ],
            "text/html": [
              "\n",
              "  <div id=\"df-9aabe789-7ce2-4f94-a9c8-27066b1fe486\">\n",
              "    <div class=\"colab-df-container\">\n",
              "      <div>\n",
              "<style scoped>\n",
              "    .dataframe tbody tr th:only-of-type {\n",
              "        vertical-align: middle;\n",
              "    }\n",
              "\n",
              "    .dataframe tbody tr th {\n",
              "        vertical-align: top;\n",
              "    }\n",
              "\n",
              "    .dataframe thead th {\n",
              "        text-align: right;\n",
              "    }\n",
              "</style>\n",
              "<table border=\"1\" class=\"dataframe\">\n",
              "  <thead>\n",
              "    <tr style=\"text-align: right;\">\n",
              "      <th></th>\n",
              "      <th>mean radius</th>\n",
              "      <th>mean texture</th>\n",
              "      <th>mean perimeter</th>\n",
              "      <th>mean area</th>\n",
              "      <th>mean smoothness</th>\n",
              "      <th>mean compactness</th>\n",
              "      <th>mean concavity</th>\n",
              "      <th>mean concave points</th>\n",
              "      <th>mean symmetry</th>\n",
              "      <th>mean fractal dimension</th>\n",
              "      <th>...</th>\n",
              "      <th>worst radius</th>\n",
              "      <th>worst texture</th>\n",
              "      <th>worst perimeter</th>\n",
              "      <th>worst area</th>\n",
              "      <th>worst smoothness</th>\n",
              "      <th>worst compactness</th>\n",
              "      <th>worst concavity</th>\n",
              "      <th>worst concave points</th>\n",
              "      <th>worst symmetry</th>\n",
              "      <th>worst fractal dimension</th>\n",
              "    </tr>\n",
              "  </thead>\n",
              "  <tbody>\n",
              "    <tr>\n",
              "      <th>0</th>\n",
              "      <td>17.99</td>\n",
              "      <td>10.38</td>\n",
              "      <td>122.80</td>\n",
              "      <td>1001.0</td>\n",
              "      <td>0.11840</td>\n",
              "      <td>0.27760</td>\n",
              "      <td>0.3001</td>\n",
              "      <td>0.14710</td>\n",
              "      <td>0.2419</td>\n",
              "      <td>0.07871</td>\n",
              "      <td>...</td>\n",
              "      <td>25.38</td>\n",
              "      <td>17.33</td>\n",
              "      <td>184.60</td>\n",
              "      <td>2019.0</td>\n",
              "      <td>0.1622</td>\n",
              "      <td>0.6656</td>\n",
              "      <td>0.7119</td>\n",
              "      <td>0.2654</td>\n",
              "      <td>0.4601</td>\n",
              "      <td>0.11890</td>\n",
              "    </tr>\n",
              "    <tr>\n",
              "      <th>1</th>\n",
              "      <td>20.57</td>\n",
              "      <td>17.77</td>\n",
              "      <td>132.90</td>\n",
              "      <td>1326.0</td>\n",
              "      <td>0.08474</td>\n",
              "      <td>0.07864</td>\n",
              "      <td>0.0869</td>\n",
              "      <td>0.07017</td>\n",
              "      <td>0.1812</td>\n",
              "      <td>0.05667</td>\n",
              "      <td>...</td>\n",
              "      <td>24.99</td>\n",
              "      <td>23.41</td>\n",
              "      <td>158.80</td>\n",
              "      <td>1956.0</td>\n",
              "      <td>0.1238</td>\n",
              "      <td>0.1866</td>\n",
              "      <td>0.2416</td>\n",
              "      <td>0.1860</td>\n",
              "      <td>0.2750</td>\n",
              "      <td>0.08902</td>\n",
              "    </tr>\n",
              "    <tr>\n",
              "      <th>2</th>\n",
              "      <td>19.69</td>\n",
              "      <td>21.25</td>\n",
              "      <td>130.00</td>\n",
              "      <td>1203.0</td>\n",
              "      <td>0.10960</td>\n",
              "      <td>0.15990</td>\n",
              "      <td>0.1974</td>\n",
              "      <td>0.12790</td>\n",
              "      <td>0.2069</td>\n",
              "      <td>0.05999</td>\n",
              "      <td>...</td>\n",
              "      <td>23.57</td>\n",
              "      <td>25.53</td>\n",
              "      <td>152.50</td>\n",
              "      <td>1709.0</td>\n",
              "      <td>0.1444</td>\n",
              "      <td>0.4245</td>\n",
              "      <td>0.4504</td>\n",
              "      <td>0.2430</td>\n",
              "      <td>0.3613</td>\n",
              "      <td>0.08758</td>\n",
              "    </tr>\n",
              "    <tr>\n",
              "      <th>3</th>\n",
              "      <td>11.42</td>\n",
              "      <td>20.38</td>\n",
              "      <td>77.58</td>\n",
              "      <td>386.1</td>\n",
              "      <td>0.14250</td>\n",
              "      <td>0.28390</td>\n",
              "      <td>0.2414</td>\n",
              "      <td>0.10520</td>\n",
              "      <td>0.2597</td>\n",
              "      <td>0.09744</td>\n",
              "      <td>...</td>\n",
              "      <td>14.91</td>\n",
              "      <td>26.50</td>\n",
              "      <td>98.87</td>\n",
              "      <td>567.7</td>\n",
              "      <td>0.2098</td>\n",
              "      <td>0.8663</td>\n",
              "      <td>0.6869</td>\n",
              "      <td>0.2575</td>\n",
              "      <td>0.6638</td>\n",
              "      <td>0.17300</td>\n",
              "    </tr>\n",
              "    <tr>\n",
              "      <th>4</th>\n",
              "      <td>20.29</td>\n",
              "      <td>14.34</td>\n",
              "      <td>135.10</td>\n",
              "      <td>1297.0</td>\n",
              "      <td>0.10030</td>\n",
              "      <td>0.13280</td>\n",
              "      <td>0.1980</td>\n",
              "      <td>0.10430</td>\n",
              "      <td>0.1809</td>\n",
              "      <td>0.05883</td>\n",
              "      <td>...</td>\n",
              "      <td>22.54</td>\n",
              "      <td>16.67</td>\n",
              "      <td>152.20</td>\n",
              "      <td>1575.0</td>\n",
              "      <td>0.1374</td>\n",
              "      <td>0.2050</td>\n",
              "      <td>0.4000</td>\n",
              "      <td>0.1625</td>\n",
              "      <td>0.2364</td>\n",
              "      <td>0.07678</td>\n",
              "    </tr>\n",
              "  </tbody>\n",
              "</table>\n",
              "<p>5 rows × 30 columns</p>\n",
              "</div>\n",
              "      <button class=\"colab-df-convert\" onclick=\"convertToInteractive('df-9aabe789-7ce2-4f94-a9c8-27066b1fe486')\"\n",
              "              title=\"Convert this dataframe to an interactive table.\"\n",
              "              style=\"display:none;\">\n",
              "        \n",
              "  <svg xmlns=\"http://www.w3.org/2000/svg\" height=\"24px\"viewBox=\"0 0 24 24\"\n",
              "       width=\"24px\">\n",
              "    <path d=\"M0 0h24v24H0V0z\" fill=\"none\"/>\n",
              "    <path d=\"M18.56 5.44l.94 2.06.94-2.06 2.06-.94-2.06-.94-.94-2.06-.94 2.06-2.06.94zm-11 1L8.5 8.5l.94-2.06 2.06-.94-2.06-.94L8.5 2.5l-.94 2.06-2.06.94zm10 10l.94 2.06.94-2.06 2.06-.94-2.06-.94-.94-2.06-.94 2.06-2.06.94z\"/><path d=\"M17.41 7.96l-1.37-1.37c-.4-.4-.92-.59-1.43-.59-.52 0-1.04.2-1.43.59L10.3 9.45l-7.72 7.72c-.78.78-.78 2.05 0 2.83L4 21.41c.39.39.9.59 1.41.59.51 0 1.02-.2 1.41-.59l7.78-7.78 2.81-2.81c.8-.78.8-2.07 0-2.86zM5.41 20L4 18.59l7.72-7.72 1.47 1.35L5.41 20z\"/>\n",
              "  </svg>\n",
              "      </button>\n",
              "      \n",
              "  <style>\n",
              "    .colab-df-container {\n",
              "      display:flex;\n",
              "      flex-wrap:wrap;\n",
              "      gap: 12px;\n",
              "    }\n",
              "\n",
              "    .colab-df-convert {\n",
              "      background-color: #E8F0FE;\n",
              "      border: none;\n",
              "      border-radius: 50%;\n",
              "      cursor: pointer;\n",
              "      display: none;\n",
              "      fill: #1967D2;\n",
              "      height: 32px;\n",
              "      padding: 0 0 0 0;\n",
              "      width: 32px;\n",
              "    }\n",
              "\n",
              "    .colab-df-convert:hover {\n",
              "      background-color: #E2EBFA;\n",
              "      box-shadow: 0px 1px 2px rgba(60, 64, 67, 0.3), 0px 1px 3px 1px rgba(60, 64, 67, 0.15);\n",
              "      fill: #174EA6;\n",
              "    }\n",
              "\n",
              "    [theme=dark] .colab-df-convert {\n",
              "      background-color: #3B4455;\n",
              "      fill: #D2E3FC;\n",
              "    }\n",
              "\n",
              "    [theme=dark] .colab-df-convert:hover {\n",
              "      background-color: #434B5C;\n",
              "      box-shadow: 0px 1px 3px 1px rgba(0, 0, 0, 0.15);\n",
              "      filter: drop-shadow(0px 1px 2px rgba(0, 0, 0, 0.3));\n",
              "      fill: #FFFFFF;\n",
              "    }\n",
              "  </style>\n",
              "\n",
              "      <script>\n",
              "        const buttonEl =\n",
              "          document.querySelector('#df-9aabe789-7ce2-4f94-a9c8-27066b1fe486 button.colab-df-convert');\n",
              "        buttonEl.style.display =\n",
              "          google.colab.kernel.accessAllowed ? 'block' : 'none';\n",
              "\n",
              "        async function convertToInteractive(key) {\n",
              "          const element = document.querySelector('#df-9aabe789-7ce2-4f94-a9c8-27066b1fe486');\n",
              "          const dataTable =\n",
              "            await google.colab.kernel.invokeFunction('convertToInteractive',\n",
              "                                                     [key], {});\n",
              "          if (!dataTable) return;\n",
              "\n",
              "          const docLinkHtml = 'Like what you see? Visit the ' +\n",
              "            '<a target=\"_blank\" href=https://colab.research.google.com/notebooks/data_table.ipynb>data table notebook</a>'\n",
              "            + ' to learn more about interactive tables.';\n",
              "          element.innerHTML = '';\n",
              "          dataTable['output_type'] = 'display_data';\n",
              "          await google.colab.output.renderOutput(dataTable, element);\n",
              "          const docLink = document.createElement('div');\n",
              "          docLink.innerHTML = docLinkHtml;\n",
              "          element.appendChild(docLink);\n",
              "        }\n",
              "      </script>\n",
              "    </div>\n",
              "  </div>\n",
              "  "
            ]
          },
          "metadata": {},
          "execution_count": 6
        }
      ]
    },
    {
      "cell_type": "code",
      "source": [
        "# adding the column for target value\n",
        "\n",
        "cancer_dataset['label']= breast_cancer_dataset.target"
      ],
      "metadata": {
        "id": "HyWyJwZE3zQ3"
      },
      "execution_count": 7,
      "outputs": []
    },
    {
      "cell_type": "code",
      "source": [
        "#displaying the last five rows of the dataframe\n",
        "\n",
        "cancer_dataset.tail()"
      ],
      "metadata": {
        "colab": {
          "base_uri": "https://localhost:8080/",
          "height": 334
        },
        "id": "zjqY5ZKr4CB2",
        "outputId": "2419d0a4-4127-4484-a471-adcc4fe351bc"
      },
      "execution_count": 8,
      "outputs": [
        {
          "output_type": "execute_result",
          "data": {
            "text/plain": [
              "     mean radius  mean texture  mean perimeter  mean area  mean smoothness  \\\n",
              "564        21.56         22.39          142.00     1479.0          0.11100   \n",
              "565        20.13         28.25          131.20     1261.0          0.09780   \n",
              "566        16.60         28.08          108.30      858.1          0.08455   \n",
              "567        20.60         29.33          140.10     1265.0          0.11780   \n",
              "568         7.76         24.54           47.92      181.0          0.05263   \n",
              "\n",
              "     mean compactness  mean concavity  mean concave points  mean symmetry  \\\n",
              "564           0.11590         0.24390              0.13890         0.1726   \n",
              "565           0.10340         0.14400              0.09791         0.1752   \n",
              "566           0.10230         0.09251              0.05302         0.1590   \n",
              "567           0.27700         0.35140              0.15200         0.2397   \n",
              "568           0.04362         0.00000              0.00000         0.1587   \n",
              "\n",
              "     mean fractal dimension  ...  worst texture  worst perimeter  worst area  \\\n",
              "564                 0.05623  ...          26.40           166.10      2027.0   \n",
              "565                 0.05533  ...          38.25           155.00      1731.0   \n",
              "566                 0.05648  ...          34.12           126.70      1124.0   \n",
              "567                 0.07016  ...          39.42           184.60      1821.0   \n",
              "568                 0.05884  ...          30.37            59.16       268.6   \n",
              "\n",
              "     worst smoothness  worst compactness  worst concavity  \\\n",
              "564           0.14100            0.21130           0.4107   \n",
              "565           0.11660            0.19220           0.3215   \n",
              "566           0.11390            0.30940           0.3403   \n",
              "567           0.16500            0.86810           0.9387   \n",
              "568           0.08996            0.06444           0.0000   \n",
              "\n",
              "     worst concave points  worst symmetry  worst fractal dimension  label  \n",
              "564                0.2216          0.2060                  0.07115      0  \n",
              "565                0.1628          0.2572                  0.06637      0  \n",
              "566                0.1418          0.2218                  0.07820      0  \n",
              "567                0.2650          0.4087                  0.12400      0  \n",
              "568                0.0000          0.2871                  0.07039      1  \n",
              "\n",
              "[5 rows x 31 columns]"
            ],
            "text/html": [
              "\n",
              "  <div id=\"df-f446164f-c664-4a47-b7bf-d8b4218e05c5\">\n",
              "    <div class=\"colab-df-container\">\n",
              "      <div>\n",
              "<style scoped>\n",
              "    .dataframe tbody tr th:only-of-type {\n",
              "        vertical-align: middle;\n",
              "    }\n",
              "\n",
              "    .dataframe tbody tr th {\n",
              "        vertical-align: top;\n",
              "    }\n",
              "\n",
              "    .dataframe thead th {\n",
              "        text-align: right;\n",
              "    }\n",
              "</style>\n",
              "<table border=\"1\" class=\"dataframe\">\n",
              "  <thead>\n",
              "    <tr style=\"text-align: right;\">\n",
              "      <th></th>\n",
              "      <th>mean radius</th>\n",
              "      <th>mean texture</th>\n",
              "      <th>mean perimeter</th>\n",
              "      <th>mean area</th>\n",
              "      <th>mean smoothness</th>\n",
              "      <th>mean compactness</th>\n",
              "      <th>mean concavity</th>\n",
              "      <th>mean concave points</th>\n",
              "      <th>mean symmetry</th>\n",
              "      <th>mean fractal dimension</th>\n",
              "      <th>...</th>\n",
              "      <th>worst texture</th>\n",
              "      <th>worst perimeter</th>\n",
              "      <th>worst area</th>\n",
              "      <th>worst smoothness</th>\n",
              "      <th>worst compactness</th>\n",
              "      <th>worst concavity</th>\n",
              "      <th>worst concave points</th>\n",
              "      <th>worst symmetry</th>\n",
              "      <th>worst fractal dimension</th>\n",
              "      <th>label</th>\n",
              "    </tr>\n",
              "  </thead>\n",
              "  <tbody>\n",
              "    <tr>\n",
              "      <th>564</th>\n",
              "      <td>21.56</td>\n",
              "      <td>22.39</td>\n",
              "      <td>142.00</td>\n",
              "      <td>1479.0</td>\n",
              "      <td>0.11100</td>\n",
              "      <td>0.11590</td>\n",
              "      <td>0.24390</td>\n",
              "      <td>0.13890</td>\n",
              "      <td>0.1726</td>\n",
              "      <td>0.05623</td>\n",
              "      <td>...</td>\n",
              "      <td>26.40</td>\n",
              "      <td>166.10</td>\n",
              "      <td>2027.0</td>\n",
              "      <td>0.14100</td>\n",
              "      <td>0.21130</td>\n",
              "      <td>0.4107</td>\n",
              "      <td>0.2216</td>\n",
              "      <td>0.2060</td>\n",
              "      <td>0.07115</td>\n",
              "      <td>0</td>\n",
              "    </tr>\n",
              "    <tr>\n",
              "      <th>565</th>\n",
              "      <td>20.13</td>\n",
              "      <td>28.25</td>\n",
              "      <td>131.20</td>\n",
              "      <td>1261.0</td>\n",
              "      <td>0.09780</td>\n",
              "      <td>0.10340</td>\n",
              "      <td>0.14400</td>\n",
              "      <td>0.09791</td>\n",
              "      <td>0.1752</td>\n",
              "      <td>0.05533</td>\n",
              "      <td>...</td>\n",
              "      <td>38.25</td>\n",
              "      <td>155.00</td>\n",
              "      <td>1731.0</td>\n",
              "      <td>0.11660</td>\n",
              "      <td>0.19220</td>\n",
              "      <td>0.3215</td>\n",
              "      <td>0.1628</td>\n",
              "      <td>0.2572</td>\n",
              "      <td>0.06637</td>\n",
              "      <td>0</td>\n",
              "    </tr>\n",
              "    <tr>\n",
              "      <th>566</th>\n",
              "      <td>16.60</td>\n",
              "      <td>28.08</td>\n",
              "      <td>108.30</td>\n",
              "      <td>858.1</td>\n",
              "      <td>0.08455</td>\n",
              "      <td>0.10230</td>\n",
              "      <td>0.09251</td>\n",
              "      <td>0.05302</td>\n",
              "      <td>0.1590</td>\n",
              "      <td>0.05648</td>\n",
              "      <td>...</td>\n",
              "      <td>34.12</td>\n",
              "      <td>126.70</td>\n",
              "      <td>1124.0</td>\n",
              "      <td>0.11390</td>\n",
              "      <td>0.30940</td>\n",
              "      <td>0.3403</td>\n",
              "      <td>0.1418</td>\n",
              "      <td>0.2218</td>\n",
              "      <td>0.07820</td>\n",
              "      <td>0</td>\n",
              "    </tr>\n",
              "    <tr>\n",
              "      <th>567</th>\n",
              "      <td>20.60</td>\n",
              "      <td>29.33</td>\n",
              "      <td>140.10</td>\n",
              "      <td>1265.0</td>\n",
              "      <td>0.11780</td>\n",
              "      <td>0.27700</td>\n",
              "      <td>0.35140</td>\n",
              "      <td>0.15200</td>\n",
              "      <td>0.2397</td>\n",
              "      <td>0.07016</td>\n",
              "      <td>...</td>\n",
              "      <td>39.42</td>\n",
              "      <td>184.60</td>\n",
              "      <td>1821.0</td>\n",
              "      <td>0.16500</td>\n",
              "      <td>0.86810</td>\n",
              "      <td>0.9387</td>\n",
              "      <td>0.2650</td>\n",
              "      <td>0.4087</td>\n",
              "      <td>0.12400</td>\n",
              "      <td>0</td>\n",
              "    </tr>\n",
              "    <tr>\n",
              "      <th>568</th>\n",
              "      <td>7.76</td>\n",
              "      <td>24.54</td>\n",
              "      <td>47.92</td>\n",
              "      <td>181.0</td>\n",
              "      <td>0.05263</td>\n",
              "      <td>0.04362</td>\n",
              "      <td>0.00000</td>\n",
              "      <td>0.00000</td>\n",
              "      <td>0.1587</td>\n",
              "      <td>0.05884</td>\n",
              "      <td>...</td>\n",
              "      <td>30.37</td>\n",
              "      <td>59.16</td>\n",
              "      <td>268.6</td>\n",
              "      <td>0.08996</td>\n",
              "      <td>0.06444</td>\n",
              "      <td>0.0000</td>\n",
              "      <td>0.0000</td>\n",
              "      <td>0.2871</td>\n",
              "      <td>0.07039</td>\n",
              "      <td>1</td>\n",
              "    </tr>\n",
              "  </tbody>\n",
              "</table>\n",
              "<p>5 rows × 31 columns</p>\n",
              "</div>\n",
              "      <button class=\"colab-df-convert\" onclick=\"convertToInteractive('df-f446164f-c664-4a47-b7bf-d8b4218e05c5')\"\n",
              "              title=\"Convert this dataframe to an interactive table.\"\n",
              "              style=\"display:none;\">\n",
              "        \n",
              "  <svg xmlns=\"http://www.w3.org/2000/svg\" height=\"24px\"viewBox=\"0 0 24 24\"\n",
              "       width=\"24px\">\n",
              "    <path d=\"M0 0h24v24H0V0z\" fill=\"none\"/>\n",
              "    <path d=\"M18.56 5.44l.94 2.06.94-2.06 2.06-.94-2.06-.94-.94-2.06-.94 2.06-2.06.94zm-11 1L8.5 8.5l.94-2.06 2.06-.94-2.06-.94L8.5 2.5l-.94 2.06-2.06.94zm10 10l.94 2.06.94-2.06 2.06-.94-2.06-.94-.94-2.06-.94 2.06-2.06.94z\"/><path d=\"M17.41 7.96l-1.37-1.37c-.4-.4-.92-.59-1.43-.59-.52 0-1.04.2-1.43.59L10.3 9.45l-7.72 7.72c-.78.78-.78 2.05 0 2.83L4 21.41c.39.39.9.59 1.41.59.51 0 1.02-.2 1.41-.59l7.78-7.78 2.81-2.81c.8-.78.8-2.07 0-2.86zM5.41 20L4 18.59l7.72-7.72 1.47 1.35L5.41 20z\"/>\n",
              "  </svg>\n",
              "      </button>\n",
              "      \n",
              "  <style>\n",
              "    .colab-df-container {\n",
              "      display:flex;\n",
              "      flex-wrap:wrap;\n",
              "      gap: 12px;\n",
              "    }\n",
              "\n",
              "    .colab-df-convert {\n",
              "      background-color: #E8F0FE;\n",
              "      border: none;\n",
              "      border-radius: 50%;\n",
              "      cursor: pointer;\n",
              "      display: none;\n",
              "      fill: #1967D2;\n",
              "      height: 32px;\n",
              "      padding: 0 0 0 0;\n",
              "      width: 32px;\n",
              "    }\n",
              "\n",
              "    .colab-df-convert:hover {\n",
              "      background-color: #E2EBFA;\n",
              "      box-shadow: 0px 1px 2px rgba(60, 64, 67, 0.3), 0px 1px 3px 1px rgba(60, 64, 67, 0.15);\n",
              "      fill: #174EA6;\n",
              "    }\n",
              "\n",
              "    [theme=dark] .colab-df-convert {\n",
              "      background-color: #3B4455;\n",
              "      fill: #D2E3FC;\n",
              "    }\n",
              "\n",
              "    [theme=dark] .colab-df-convert:hover {\n",
              "      background-color: #434B5C;\n",
              "      box-shadow: 0px 1px 3px 1px rgba(0, 0, 0, 0.15);\n",
              "      filter: drop-shadow(0px 1px 2px rgba(0, 0, 0, 0.3));\n",
              "      fill: #FFFFFF;\n",
              "    }\n",
              "  </style>\n",
              "\n",
              "      <script>\n",
              "        const buttonEl =\n",
              "          document.querySelector('#df-f446164f-c664-4a47-b7bf-d8b4218e05c5 button.colab-df-convert');\n",
              "        buttonEl.style.display =\n",
              "          google.colab.kernel.accessAllowed ? 'block' : 'none';\n",
              "\n",
              "        async function convertToInteractive(key) {\n",
              "          const element = document.querySelector('#df-f446164f-c664-4a47-b7bf-d8b4218e05c5');\n",
              "          const dataTable =\n",
              "            await google.colab.kernel.invokeFunction('convertToInteractive',\n",
              "                                                     [key], {});\n",
              "          if (!dataTable) return;\n",
              "\n",
              "          const docLinkHtml = 'Like what you see? Visit the ' +\n",
              "            '<a target=\"_blank\" href=https://colab.research.google.com/notebooks/data_table.ipynb>data table notebook</a>'\n",
              "            + ' to learn more about interactive tables.';\n",
              "          element.innerHTML = '';\n",
              "          dataTable['output_type'] = 'display_data';\n",
              "          await google.colab.output.renderOutput(dataTable, element);\n",
              "          const docLink = document.createElement('div');\n",
              "          docLink.innerHTML = docLinkHtml;\n",
              "          element.appendChild(docLink);\n",
              "        }\n",
              "      </script>\n",
              "    </div>\n",
              "  </div>\n",
              "  "
            ]
          },
          "metadata": {},
          "execution_count": 8
        }
      ]
    },
    {
      "cell_type": "code",
      "source": [
        "# checking the total no. of rows and columns in a dataframe\n",
        "cancer_dataset.shape"
      ],
      "metadata": {
        "colab": {
          "base_uri": "https://localhost:8080/"
        },
        "id": "Y8PzW_tb4IRE",
        "outputId": "84620332-632a-460e-d990-f81f943b419a"
      },
      "execution_count": 9,
      "outputs": [
        {
          "output_type": "execute_result",
          "data": {
            "text/plain": [
              "(569, 31)"
            ]
          },
          "metadata": {},
          "execution_count": 9
        }
      ]
    },
    {
      "cell_type": "code",
      "source": [
        "#checking some info of the dataframe\n",
        "cancer_dataset.info()"
      ],
      "metadata": {
        "colab": {
          "base_uri": "https://localhost:8080/"
        },
        "id": "Tq7EC40R4WOQ",
        "outputId": "83a59f3a-3541-4576-a50d-a85c46caf455"
      },
      "execution_count": 10,
      "outputs": [
        {
          "output_type": "stream",
          "name": "stdout",
          "text": [
            "<class 'pandas.core.frame.DataFrame'>\n",
            "RangeIndex: 569 entries, 0 to 568\n",
            "Data columns (total 31 columns):\n",
            " #   Column                   Non-Null Count  Dtype  \n",
            "---  ------                   --------------  -----  \n",
            " 0   mean radius              569 non-null    float64\n",
            " 1   mean texture             569 non-null    float64\n",
            " 2   mean perimeter           569 non-null    float64\n",
            " 3   mean area                569 non-null    float64\n",
            " 4   mean smoothness          569 non-null    float64\n",
            " 5   mean compactness         569 non-null    float64\n",
            " 6   mean concavity           569 non-null    float64\n",
            " 7   mean concave points      569 non-null    float64\n",
            " 8   mean symmetry            569 non-null    float64\n",
            " 9   mean fractal dimension   569 non-null    float64\n",
            " 10  radius error             569 non-null    float64\n",
            " 11  texture error            569 non-null    float64\n",
            " 12  perimeter error          569 non-null    float64\n",
            " 13  area error               569 non-null    float64\n",
            " 14  smoothness error         569 non-null    float64\n",
            " 15  compactness error        569 non-null    float64\n",
            " 16  concavity error          569 non-null    float64\n",
            " 17  concave points error     569 non-null    float64\n",
            " 18  symmetry error           569 non-null    float64\n",
            " 19  fractal dimension error  569 non-null    float64\n",
            " 20  worst radius             569 non-null    float64\n",
            " 21  worst texture            569 non-null    float64\n",
            " 22  worst perimeter          569 non-null    float64\n",
            " 23  worst area               569 non-null    float64\n",
            " 24  worst smoothness         569 non-null    float64\n",
            " 25  worst compactness        569 non-null    float64\n",
            " 26  worst concavity          569 non-null    float64\n",
            " 27  worst concave points     569 non-null    float64\n",
            " 28  worst symmetry           569 non-null    float64\n",
            " 29  worst fractal dimension  569 non-null    float64\n",
            " 30  label                    569 non-null    int64  \n",
            "dtypes: float64(30), int64(1)\n",
            "memory usage: 137.9 KB\n"
          ]
        }
      ]
    },
    {
      "cell_type": "code",
      "source": [
        "#Checking some stastistical measure of dataframe\n",
        "cancer_dataset.describe()"
      ],
      "metadata": {
        "colab": {
          "base_uri": "https://localhost:8080/",
          "height": 428
        },
        "id": "aIWS2l264a9g",
        "outputId": "dce7d1f9-9ada-4d3c-f59f-0cd6e9498189"
      },
      "execution_count": 11,
      "outputs": [
        {
          "output_type": "execute_result",
          "data": {
            "text/plain": [
              "       mean radius  mean texture  mean perimeter    mean area  \\\n",
              "count   569.000000    569.000000      569.000000   569.000000   \n",
              "mean     14.127292     19.289649       91.969033   654.889104   \n",
              "std       3.524049      4.301036       24.298981   351.914129   \n",
              "min       6.981000      9.710000       43.790000   143.500000   \n",
              "25%      11.700000     16.170000       75.170000   420.300000   \n",
              "50%      13.370000     18.840000       86.240000   551.100000   \n",
              "75%      15.780000     21.800000      104.100000   782.700000   \n",
              "max      28.110000     39.280000      188.500000  2501.000000   \n",
              "\n",
              "       mean smoothness  mean compactness  mean concavity  mean concave points  \\\n",
              "count       569.000000        569.000000      569.000000           569.000000   \n",
              "mean          0.096360          0.104341        0.088799             0.048919   \n",
              "std           0.014064          0.052813        0.079720             0.038803   \n",
              "min           0.052630          0.019380        0.000000             0.000000   \n",
              "25%           0.086370          0.064920        0.029560             0.020310   \n",
              "50%           0.095870          0.092630        0.061540             0.033500   \n",
              "75%           0.105300          0.130400        0.130700             0.074000   \n",
              "max           0.163400          0.345400        0.426800             0.201200   \n",
              "\n",
              "       mean symmetry  mean fractal dimension  ...  worst texture  \\\n",
              "count     569.000000              569.000000  ...     569.000000   \n",
              "mean        0.181162                0.062798  ...      25.677223   \n",
              "std         0.027414                0.007060  ...       6.146258   \n",
              "min         0.106000                0.049960  ...      12.020000   \n",
              "25%         0.161900                0.057700  ...      21.080000   \n",
              "50%         0.179200                0.061540  ...      25.410000   \n",
              "75%         0.195700                0.066120  ...      29.720000   \n",
              "max         0.304000                0.097440  ...      49.540000   \n",
              "\n",
              "       worst perimeter   worst area  worst smoothness  worst compactness  \\\n",
              "count       569.000000   569.000000        569.000000         569.000000   \n",
              "mean        107.261213   880.583128          0.132369           0.254265   \n",
              "std          33.602542   569.356993          0.022832           0.157336   \n",
              "min          50.410000   185.200000          0.071170           0.027290   \n",
              "25%          84.110000   515.300000          0.116600           0.147200   \n",
              "50%          97.660000   686.500000          0.131300           0.211900   \n",
              "75%         125.400000  1084.000000          0.146000           0.339100   \n",
              "max         251.200000  4254.000000          0.222600           1.058000   \n",
              "\n",
              "       worst concavity  worst concave points  worst symmetry  \\\n",
              "count       569.000000            569.000000      569.000000   \n",
              "mean          0.272188              0.114606        0.290076   \n",
              "std           0.208624              0.065732        0.061867   \n",
              "min           0.000000              0.000000        0.156500   \n",
              "25%           0.114500              0.064930        0.250400   \n",
              "50%           0.226700              0.099930        0.282200   \n",
              "75%           0.382900              0.161400        0.317900   \n",
              "max           1.252000              0.291000        0.663800   \n",
              "\n",
              "       worst fractal dimension       label  \n",
              "count               569.000000  569.000000  \n",
              "mean                  0.083946    0.627417  \n",
              "std                   0.018061    0.483918  \n",
              "min                   0.055040    0.000000  \n",
              "25%                   0.071460    0.000000  \n",
              "50%                   0.080040    1.000000  \n",
              "75%                   0.092080    1.000000  \n",
              "max                   0.207500    1.000000  \n",
              "\n",
              "[8 rows x 31 columns]"
            ],
            "text/html": [
              "\n",
              "  <div id=\"df-1c494d7e-428d-4692-9a24-5f976a0e0fb5\">\n",
              "    <div class=\"colab-df-container\">\n",
              "      <div>\n",
              "<style scoped>\n",
              "    .dataframe tbody tr th:only-of-type {\n",
              "        vertical-align: middle;\n",
              "    }\n",
              "\n",
              "    .dataframe tbody tr th {\n",
              "        vertical-align: top;\n",
              "    }\n",
              "\n",
              "    .dataframe thead th {\n",
              "        text-align: right;\n",
              "    }\n",
              "</style>\n",
              "<table border=\"1\" class=\"dataframe\">\n",
              "  <thead>\n",
              "    <tr style=\"text-align: right;\">\n",
              "      <th></th>\n",
              "      <th>mean radius</th>\n",
              "      <th>mean texture</th>\n",
              "      <th>mean perimeter</th>\n",
              "      <th>mean area</th>\n",
              "      <th>mean smoothness</th>\n",
              "      <th>mean compactness</th>\n",
              "      <th>mean concavity</th>\n",
              "      <th>mean concave points</th>\n",
              "      <th>mean symmetry</th>\n",
              "      <th>mean fractal dimension</th>\n",
              "      <th>...</th>\n",
              "      <th>worst texture</th>\n",
              "      <th>worst perimeter</th>\n",
              "      <th>worst area</th>\n",
              "      <th>worst smoothness</th>\n",
              "      <th>worst compactness</th>\n",
              "      <th>worst concavity</th>\n",
              "      <th>worst concave points</th>\n",
              "      <th>worst symmetry</th>\n",
              "      <th>worst fractal dimension</th>\n",
              "      <th>label</th>\n",
              "    </tr>\n",
              "  </thead>\n",
              "  <tbody>\n",
              "    <tr>\n",
              "      <th>count</th>\n",
              "      <td>569.000000</td>\n",
              "      <td>569.000000</td>\n",
              "      <td>569.000000</td>\n",
              "      <td>569.000000</td>\n",
              "      <td>569.000000</td>\n",
              "      <td>569.000000</td>\n",
              "      <td>569.000000</td>\n",
              "      <td>569.000000</td>\n",
              "      <td>569.000000</td>\n",
              "      <td>569.000000</td>\n",
              "      <td>...</td>\n",
              "      <td>569.000000</td>\n",
              "      <td>569.000000</td>\n",
              "      <td>569.000000</td>\n",
              "      <td>569.000000</td>\n",
              "      <td>569.000000</td>\n",
              "      <td>569.000000</td>\n",
              "      <td>569.000000</td>\n",
              "      <td>569.000000</td>\n",
              "      <td>569.000000</td>\n",
              "      <td>569.000000</td>\n",
              "    </tr>\n",
              "    <tr>\n",
              "      <th>mean</th>\n",
              "      <td>14.127292</td>\n",
              "      <td>19.289649</td>\n",
              "      <td>91.969033</td>\n",
              "      <td>654.889104</td>\n",
              "      <td>0.096360</td>\n",
              "      <td>0.104341</td>\n",
              "      <td>0.088799</td>\n",
              "      <td>0.048919</td>\n",
              "      <td>0.181162</td>\n",
              "      <td>0.062798</td>\n",
              "      <td>...</td>\n",
              "      <td>25.677223</td>\n",
              "      <td>107.261213</td>\n",
              "      <td>880.583128</td>\n",
              "      <td>0.132369</td>\n",
              "      <td>0.254265</td>\n",
              "      <td>0.272188</td>\n",
              "      <td>0.114606</td>\n",
              "      <td>0.290076</td>\n",
              "      <td>0.083946</td>\n",
              "      <td>0.627417</td>\n",
              "    </tr>\n",
              "    <tr>\n",
              "      <th>std</th>\n",
              "      <td>3.524049</td>\n",
              "      <td>4.301036</td>\n",
              "      <td>24.298981</td>\n",
              "      <td>351.914129</td>\n",
              "      <td>0.014064</td>\n",
              "      <td>0.052813</td>\n",
              "      <td>0.079720</td>\n",
              "      <td>0.038803</td>\n",
              "      <td>0.027414</td>\n",
              "      <td>0.007060</td>\n",
              "      <td>...</td>\n",
              "      <td>6.146258</td>\n",
              "      <td>33.602542</td>\n",
              "      <td>569.356993</td>\n",
              "      <td>0.022832</td>\n",
              "      <td>0.157336</td>\n",
              "      <td>0.208624</td>\n",
              "      <td>0.065732</td>\n",
              "      <td>0.061867</td>\n",
              "      <td>0.018061</td>\n",
              "      <td>0.483918</td>\n",
              "    </tr>\n",
              "    <tr>\n",
              "      <th>min</th>\n",
              "      <td>6.981000</td>\n",
              "      <td>9.710000</td>\n",
              "      <td>43.790000</td>\n",
              "      <td>143.500000</td>\n",
              "      <td>0.052630</td>\n",
              "      <td>0.019380</td>\n",
              "      <td>0.000000</td>\n",
              "      <td>0.000000</td>\n",
              "      <td>0.106000</td>\n",
              "      <td>0.049960</td>\n",
              "      <td>...</td>\n",
              "      <td>12.020000</td>\n",
              "      <td>50.410000</td>\n",
              "      <td>185.200000</td>\n",
              "      <td>0.071170</td>\n",
              "      <td>0.027290</td>\n",
              "      <td>0.000000</td>\n",
              "      <td>0.000000</td>\n",
              "      <td>0.156500</td>\n",
              "      <td>0.055040</td>\n",
              "      <td>0.000000</td>\n",
              "    </tr>\n",
              "    <tr>\n",
              "      <th>25%</th>\n",
              "      <td>11.700000</td>\n",
              "      <td>16.170000</td>\n",
              "      <td>75.170000</td>\n",
              "      <td>420.300000</td>\n",
              "      <td>0.086370</td>\n",
              "      <td>0.064920</td>\n",
              "      <td>0.029560</td>\n",
              "      <td>0.020310</td>\n",
              "      <td>0.161900</td>\n",
              "      <td>0.057700</td>\n",
              "      <td>...</td>\n",
              "      <td>21.080000</td>\n",
              "      <td>84.110000</td>\n",
              "      <td>515.300000</td>\n",
              "      <td>0.116600</td>\n",
              "      <td>0.147200</td>\n",
              "      <td>0.114500</td>\n",
              "      <td>0.064930</td>\n",
              "      <td>0.250400</td>\n",
              "      <td>0.071460</td>\n",
              "      <td>0.000000</td>\n",
              "    </tr>\n",
              "    <tr>\n",
              "      <th>50%</th>\n",
              "      <td>13.370000</td>\n",
              "      <td>18.840000</td>\n",
              "      <td>86.240000</td>\n",
              "      <td>551.100000</td>\n",
              "      <td>0.095870</td>\n",
              "      <td>0.092630</td>\n",
              "      <td>0.061540</td>\n",
              "      <td>0.033500</td>\n",
              "      <td>0.179200</td>\n",
              "      <td>0.061540</td>\n",
              "      <td>...</td>\n",
              "      <td>25.410000</td>\n",
              "      <td>97.660000</td>\n",
              "      <td>686.500000</td>\n",
              "      <td>0.131300</td>\n",
              "      <td>0.211900</td>\n",
              "      <td>0.226700</td>\n",
              "      <td>0.099930</td>\n",
              "      <td>0.282200</td>\n",
              "      <td>0.080040</td>\n",
              "      <td>1.000000</td>\n",
              "    </tr>\n",
              "    <tr>\n",
              "      <th>75%</th>\n",
              "      <td>15.780000</td>\n",
              "      <td>21.800000</td>\n",
              "      <td>104.100000</td>\n",
              "      <td>782.700000</td>\n",
              "      <td>0.105300</td>\n",
              "      <td>0.130400</td>\n",
              "      <td>0.130700</td>\n",
              "      <td>0.074000</td>\n",
              "      <td>0.195700</td>\n",
              "      <td>0.066120</td>\n",
              "      <td>...</td>\n",
              "      <td>29.720000</td>\n",
              "      <td>125.400000</td>\n",
              "      <td>1084.000000</td>\n",
              "      <td>0.146000</td>\n",
              "      <td>0.339100</td>\n",
              "      <td>0.382900</td>\n",
              "      <td>0.161400</td>\n",
              "      <td>0.317900</td>\n",
              "      <td>0.092080</td>\n",
              "      <td>1.000000</td>\n",
              "    </tr>\n",
              "    <tr>\n",
              "      <th>max</th>\n",
              "      <td>28.110000</td>\n",
              "      <td>39.280000</td>\n",
              "      <td>188.500000</td>\n",
              "      <td>2501.000000</td>\n",
              "      <td>0.163400</td>\n",
              "      <td>0.345400</td>\n",
              "      <td>0.426800</td>\n",
              "      <td>0.201200</td>\n",
              "      <td>0.304000</td>\n",
              "      <td>0.097440</td>\n",
              "      <td>...</td>\n",
              "      <td>49.540000</td>\n",
              "      <td>251.200000</td>\n",
              "      <td>4254.000000</td>\n",
              "      <td>0.222600</td>\n",
              "      <td>1.058000</td>\n",
              "      <td>1.252000</td>\n",
              "      <td>0.291000</td>\n",
              "      <td>0.663800</td>\n",
              "      <td>0.207500</td>\n",
              "      <td>1.000000</td>\n",
              "    </tr>\n",
              "  </tbody>\n",
              "</table>\n",
              "<p>8 rows × 31 columns</p>\n",
              "</div>\n",
              "      <button class=\"colab-df-convert\" onclick=\"convertToInteractive('df-1c494d7e-428d-4692-9a24-5f976a0e0fb5')\"\n",
              "              title=\"Convert this dataframe to an interactive table.\"\n",
              "              style=\"display:none;\">\n",
              "        \n",
              "  <svg xmlns=\"http://www.w3.org/2000/svg\" height=\"24px\"viewBox=\"0 0 24 24\"\n",
              "       width=\"24px\">\n",
              "    <path d=\"M0 0h24v24H0V0z\" fill=\"none\"/>\n",
              "    <path d=\"M18.56 5.44l.94 2.06.94-2.06 2.06-.94-2.06-.94-.94-2.06-.94 2.06-2.06.94zm-11 1L8.5 8.5l.94-2.06 2.06-.94-2.06-.94L8.5 2.5l-.94 2.06-2.06.94zm10 10l.94 2.06.94-2.06 2.06-.94-2.06-.94-.94-2.06-.94 2.06-2.06.94z\"/><path d=\"M17.41 7.96l-1.37-1.37c-.4-.4-.92-.59-1.43-.59-.52 0-1.04.2-1.43.59L10.3 9.45l-7.72 7.72c-.78.78-.78 2.05 0 2.83L4 21.41c.39.39.9.59 1.41.59.51 0 1.02-.2 1.41-.59l7.78-7.78 2.81-2.81c.8-.78.8-2.07 0-2.86zM5.41 20L4 18.59l7.72-7.72 1.47 1.35L5.41 20z\"/>\n",
              "  </svg>\n",
              "      </button>\n",
              "      \n",
              "  <style>\n",
              "    .colab-df-container {\n",
              "      display:flex;\n",
              "      flex-wrap:wrap;\n",
              "      gap: 12px;\n",
              "    }\n",
              "\n",
              "    .colab-df-convert {\n",
              "      background-color: #E8F0FE;\n",
              "      border: none;\n",
              "      border-radius: 50%;\n",
              "      cursor: pointer;\n",
              "      display: none;\n",
              "      fill: #1967D2;\n",
              "      height: 32px;\n",
              "      padding: 0 0 0 0;\n",
              "      width: 32px;\n",
              "    }\n",
              "\n",
              "    .colab-df-convert:hover {\n",
              "      background-color: #E2EBFA;\n",
              "      box-shadow: 0px 1px 2px rgba(60, 64, 67, 0.3), 0px 1px 3px 1px rgba(60, 64, 67, 0.15);\n",
              "      fill: #174EA6;\n",
              "    }\n",
              "\n",
              "    [theme=dark] .colab-df-convert {\n",
              "      background-color: #3B4455;\n",
              "      fill: #D2E3FC;\n",
              "    }\n",
              "\n",
              "    [theme=dark] .colab-df-convert:hover {\n",
              "      background-color: #434B5C;\n",
              "      box-shadow: 0px 1px 3px 1px rgba(0, 0, 0, 0.15);\n",
              "      filter: drop-shadow(0px 1px 2px rgba(0, 0, 0, 0.3));\n",
              "      fill: #FFFFFF;\n",
              "    }\n",
              "  </style>\n",
              "\n",
              "      <script>\n",
              "        const buttonEl =\n",
              "          document.querySelector('#df-1c494d7e-428d-4692-9a24-5f976a0e0fb5 button.colab-df-convert');\n",
              "        buttonEl.style.display =\n",
              "          google.colab.kernel.accessAllowed ? 'block' : 'none';\n",
              "\n",
              "        async function convertToInteractive(key) {\n",
              "          const element = document.querySelector('#df-1c494d7e-428d-4692-9a24-5f976a0e0fb5');\n",
              "          const dataTable =\n",
              "            await google.colab.kernel.invokeFunction('convertToInteractive',\n",
              "                                                     [key], {});\n",
              "          if (!dataTable) return;\n",
              "\n",
              "          const docLinkHtml = 'Like what you see? Visit the ' +\n",
              "            '<a target=\"_blank\" href=https://colab.research.google.com/notebooks/data_table.ipynb>data table notebook</a>'\n",
              "            + ' to learn more about interactive tables.';\n",
              "          element.innerHTML = '';\n",
              "          dataTable['output_type'] = 'display_data';\n",
              "          await google.colab.output.renderOutput(dataTable, element);\n",
              "          const docLink = document.createElement('div');\n",
              "          docLink.innerHTML = docLinkHtml;\n",
              "          element.appendChild(docLink);\n",
              "        }\n",
              "      </script>\n",
              "    </div>\n",
              "  </div>\n",
              "  "
            ]
          },
          "metadata": {},
          "execution_count": 11
        }
      ]
    },
    {
      "cell_type": "code",
      "source": [
        "# checking the null values in a dataframe\n",
        "\n",
        "cancer_dataset.isnull().sum()"
      ],
      "metadata": {
        "colab": {
          "base_uri": "https://localhost:8080/"
        },
        "id": "FQrd27km4iAl",
        "outputId": "9c51ec3c-c7ef-46a1-d73f-85490190bb46"
      },
      "execution_count": 12,
      "outputs": [
        {
          "output_type": "execute_result",
          "data": {
            "text/plain": [
              "mean radius                0\n",
              "mean texture               0\n",
              "mean perimeter             0\n",
              "mean area                  0\n",
              "mean smoothness            0\n",
              "mean compactness           0\n",
              "mean concavity             0\n",
              "mean concave points        0\n",
              "mean symmetry              0\n",
              "mean fractal dimension     0\n",
              "radius error               0\n",
              "texture error              0\n",
              "perimeter error            0\n",
              "area error                 0\n",
              "smoothness error           0\n",
              "compactness error          0\n",
              "concavity error            0\n",
              "concave points error       0\n",
              "symmetry error             0\n",
              "fractal dimension error    0\n",
              "worst radius               0\n",
              "worst texture              0\n",
              "worst perimeter            0\n",
              "worst area                 0\n",
              "worst smoothness           0\n",
              "worst compactness          0\n",
              "worst concavity            0\n",
              "worst concave points       0\n",
              "worst symmetry             0\n",
              "worst fractal dimension    0\n",
              "label                      0\n",
              "dtype: int64"
            ]
          },
          "metadata": {},
          "execution_count": 12
        }
      ]
    },
    {
      "cell_type": "code",
      "source": [
        "#getting the distribution of target or label\n",
        "\n",
        "cancer_dataset['label'].value_counts()"
      ],
      "metadata": {
        "colab": {
          "base_uri": "https://localhost:8080/"
        },
        "id": "EuS4ZSWA4o8e",
        "outputId": "18a219fa-8f3b-4afa-d874-6033890c0fc6"
      },
      "execution_count": 13,
      "outputs": [
        {
          "output_type": "execute_result",
          "data": {
            "text/plain": [
              "1    357\n",
              "0    212\n",
              "Name: label, dtype: int64"
            ]
          },
          "metadata": {},
          "execution_count": 13
        }
      ]
    },
    {
      "cell_type": "markdown",
      "source": [
        "1 --> Benign\n",
        "\n",
        "0 --> Malignant"
      ],
      "metadata": {
        "id": "RXQ7cLJt44sL"
      }
    },
    {
      "cell_type": "code",
      "source": [
        "# getting a mean  value of label .\n",
        "\n",
        "cancer_dataset.groupby('label').mean()"
      ],
      "metadata": {
        "colab": {
          "base_uri": "https://localhost:8080/",
          "height": 272
        },
        "id": "6rm4LT-f43W1",
        "outputId": "b4ad8a36-4934-442b-adfb-347d3922c637"
      },
      "execution_count": 14,
      "outputs": [
        {
          "output_type": "execute_result",
          "data": {
            "text/plain": [
              "       mean radius  mean texture  mean perimeter   mean area  mean smoothness  \\\n",
              "label                                                                           \n",
              "0        17.462830     21.604906      115.365377  978.376415         0.102898   \n",
              "1        12.146524     17.914762       78.075406  462.790196         0.092478   \n",
              "\n",
              "       mean compactness  mean concavity  mean concave points  mean symmetry  \\\n",
              "label                                                                         \n",
              "0              0.145188        0.160775             0.087990       0.192909   \n",
              "1              0.080085        0.046058             0.025717       0.174186   \n",
              "\n",
              "       mean fractal dimension  ...  worst radius  worst texture  \\\n",
              "label                          ...                                \n",
              "0                    0.062680  ...     21.134811      29.318208   \n",
              "1                    0.062867  ...     13.379801      23.515070   \n",
              "\n",
              "       worst perimeter   worst area  worst smoothness  worst compactness  \\\n",
              "label                                                                      \n",
              "0           141.370330  1422.286321          0.144845           0.374824   \n",
              "1            87.005938   558.899440          0.124959           0.182673   \n",
              "\n",
              "       worst concavity  worst concave points  worst symmetry  \\\n",
              "label                                                          \n",
              "0             0.450606              0.182237        0.323468   \n",
              "1             0.166238              0.074444        0.270246   \n",
              "\n",
              "       worst fractal dimension  \n",
              "label                           \n",
              "0                     0.091530  \n",
              "1                     0.079442  \n",
              "\n",
              "[2 rows x 30 columns]"
            ],
            "text/html": [
              "\n",
              "  <div id=\"df-f481e5d2-7c33-4332-8034-83a8a8cebd25\">\n",
              "    <div class=\"colab-df-container\">\n",
              "      <div>\n",
              "<style scoped>\n",
              "    .dataframe tbody tr th:only-of-type {\n",
              "        vertical-align: middle;\n",
              "    }\n",
              "\n",
              "    .dataframe tbody tr th {\n",
              "        vertical-align: top;\n",
              "    }\n",
              "\n",
              "    .dataframe thead th {\n",
              "        text-align: right;\n",
              "    }\n",
              "</style>\n",
              "<table border=\"1\" class=\"dataframe\">\n",
              "  <thead>\n",
              "    <tr style=\"text-align: right;\">\n",
              "      <th></th>\n",
              "      <th>mean radius</th>\n",
              "      <th>mean texture</th>\n",
              "      <th>mean perimeter</th>\n",
              "      <th>mean area</th>\n",
              "      <th>mean smoothness</th>\n",
              "      <th>mean compactness</th>\n",
              "      <th>mean concavity</th>\n",
              "      <th>mean concave points</th>\n",
              "      <th>mean symmetry</th>\n",
              "      <th>mean fractal dimension</th>\n",
              "      <th>...</th>\n",
              "      <th>worst radius</th>\n",
              "      <th>worst texture</th>\n",
              "      <th>worst perimeter</th>\n",
              "      <th>worst area</th>\n",
              "      <th>worst smoothness</th>\n",
              "      <th>worst compactness</th>\n",
              "      <th>worst concavity</th>\n",
              "      <th>worst concave points</th>\n",
              "      <th>worst symmetry</th>\n",
              "      <th>worst fractal dimension</th>\n",
              "    </tr>\n",
              "    <tr>\n",
              "      <th>label</th>\n",
              "      <th></th>\n",
              "      <th></th>\n",
              "      <th></th>\n",
              "      <th></th>\n",
              "      <th></th>\n",
              "      <th></th>\n",
              "      <th></th>\n",
              "      <th></th>\n",
              "      <th></th>\n",
              "      <th></th>\n",
              "      <th></th>\n",
              "      <th></th>\n",
              "      <th></th>\n",
              "      <th></th>\n",
              "      <th></th>\n",
              "      <th></th>\n",
              "      <th></th>\n",
              "      <th></th>\n",
              "      <th></th>\n",
              "      <th></th>\n",
              "      <th></th>\n",
              "    </tr>\n",
              "  </thead>\n",
              "  <tbody>\n",
              "    <tr>\n",
              "      <th>0</th>\n",
              "      <td>17.462830</td>\n",
              "      <td>21.604906</td>\n",
              "      <td>115.365377</td>\n",
              "      <td>978.376415</td>\n",
              "      <td>0.102898</td>\n",
              "      <td>0.145188</td>\n",
              "      <td>0.160775</td>\n",
              "      <td>0.087990</td>\n",
              "      <td>0.192909</td>\n",
              "      <td>0.062680</td>\n",
              "      <td>...</td>\n",
              "      <td>21.134811</td>\n",
              "      <td>29.318208</td>\n",
              "      <td>141.370330</td>\n",
              "      <td>1422.286321</td>\n",
              "      <td>0.144845</td>\n",
              "      <td>0.374824</td>\n",
              "      <td>0.450606</td>\n",
              "      <td>0.182237</td>\n",
              "      <td>0.323468</td>\n",
              "      <td>0.091530</td>\n",
              "    </tr>\n",
              "    <tr>\n",
              "      <th>1</th>\n",
              "      <td>12.146524</td>\n",
              "      <td>17.914762</td>\n",
              "      <td>78.075406</td>\n",
              "      <td>462.790196</td>\n",
              "      <td>0.092478</td>\n",
              "      <td>0.080085</td>\n",
              "      <td>0.046058</td>\n",
              "      <td>0.025717</td>\n",
              "      <td>0.174186</td>\n",
              "      <td>0.062867</td>\n",
              "      <td>...</td>\n",
              "      <td>13.379801</td>\n",
              "      <td>23.515070</td>\n",
              "      <td>87.005938</td>\n",
              "      <td>558.899440</td>\n",
              "      <td>0.124959</td>\n",
              "      <td>0.182673</td>\n",
              "      <td>0.166238</td>\n",
              "      <td>0.074444</td>\n",
              "      <td>0.270246</td>\n",
              "      <td>0.079442</td>\n",
              "    </tr>\n",
              "  </tbody>\n",
              "</table>\n",
              "<p>2 rows × 30 columns</p>\n",
              "</div>\n",
              "      <button class=\"colab-df-convert\" onclick=\"convertToInteractive('df-f481e5d2-7c33-4332-8034-83a8a8cebd25')\"\n",
              "              title=\"Convert this dataframe to an interactive table.\"\n",
              "              style=\"display:none;\">\n",
              "        \n",
              "  <svg xmlns=\"http://www.w3.org/2000/svg\" height=\"24px\"viewBox=\"0 0 24 24\"\n",
              "       width=\"24px\">\n",
              "    <path d=\"M0 0h24v24H0V0z\" fill=\"none\"/>\n",
              "    <path d=\"M18.56 5.44l.94 2.06.94-2.06 2.06-.94-2.06-.94-.94-2.06-.94 2.06-2.06.94zm-11 1L8.5 8.5l.94-2.06 2.06-.94-2.06-.94L8.5 2.5l-.94 2.06-2.06.94zm10 10l.94 2.06.94-2.06 2.06-.94-2.06-.94-.94-2.06-.94 2.06-2.06.94z\"/><path d=\"M17.41 7.96l-1.37-1.37c-.4-.4-.92-.59-1.43-.59-.52 0-1.04.2-1.43.59L10.3 9.45l-7.72 7.72c-.78.78-.78 2.05 0 2.83L4 21.41c.39.39.9.59 1.41.59.51 0 1.02-.2 1.41-.59l7.78-7.78 2.81-2.81c.8-.78.8-2.07 0-2.86zM5.41 20L4 18.59l7.72-7.72 1.47 1.35L5.41 20z\"/>\n",
              "  </svg>\n",
              "      </button>\n",
              "      \n",
              "  <style>\n",
              "    .colab-df-container {\n",
              "      display:flex;\n",
              "      flex-wrap:wrap;\n",
              "      gap: 12px;\n",
              "    }\n",
              "\n",
              "    .colab-df-convert {\n",
              "      background-color: #E8F0FE;\n",
              "      border: none;\n",
              "      border-radius: 50%;\n",
              "      cursor: pointer;\n",
              "      display: none;\n",
              "      fill: #1967D2;\n",
              "      height: 32px;\n",
              "      padding: 0 0 0 0;\n",
              "      width: 32px;\n",
              "    }\n",
              "\n",
              "    .colab-df-convert:hover {\n",
              "      background-color: #E2EBFA;\n",
              "      box-shadow: 0px 1px 2px rgba(60, 64, 67, 0.3), 0px 1px 3px 1px rgba(60, 64, 67, 0.15);\n",
              "      fill: #174EA6;\n",
              "    }\n",
              "\n",
              "    [theme=dark] .colab-df-convert {\n",
              "      background-color: #3B4455;\n",
              "      fill: #D2E3FC;\n",
              "    }\n",
              "\n",
              "    [theme=dark] .colab-df-convert:hover {\n",
              "      background-color: #434B5C;\n",
              "      box-shadow: 0px 1px 3px 1px rgba(0, 0, 0, 0.15);\n",
              "      filter: drop-shadow(0px 1px 2px rgba(0, 0, 0, 0.3));\n",
              "      fill: #FFFFFF;\n",
              "    }\n",
              "  </style>\n",
              "\n",
              "      <script>\n",
              "        const buttonEl =\n",
              "          document.querySelector('#df-f481e5d2-7c33-4332-8034-83a8a8cebd25 button.colab-df-convert');\n",
              "        buttonEl.style.display =\n",
              "          google.colab.kernel.accessAllowed ? 'block' : 'none';\n",
              "\n",
              "        async function convertToInteractive(key) {\n",
              "          const element = document.querySelector('#df-f481e5d2-7c33-4332-8034-83a8a8cebd25');\n",
              "          const dataTable =\n",
              "            await google.colab.kernel.invokeFunction('convertToInteractive',\n",
              "                                                     [key], {});\n",
              "          if (!dataTable) return;\n",
              "\n",
              "          const docLinkHtml = 'Like what you see? Visit the ' +\n",
              "            '<a target=\"_blank\" href=https://colab.research.google.com/notebooks/data_table.ipynb>data table notebook</a>'\n",
              "            + ' to learn more about interactive tables.';\n",
              "          element.innerHTML = '';\n",
              "          dataTable['output_type'] = 'display_data';\n",
              "          await google.colab.output.renderOutput(dataTable, element);\n",
              "          const docLink = document.createElement('div');\n",
              "          docLink.innerHTML = docLinkHtml;\n",
              "          element.appendChild(docLink);\n",
              "        }\n",
              "      </script>\n",
              "    </div>\n",
              "  </div>\n",
              "  "
            ]
          },
          "metadata": {},
          "execution_count": 14
        }
      ]
    },
    {
      "cell_type": "markdown",
      "source": [
        "# Splitting the data into target and feature columns"
      ],
      "metadata": {
        "id": "RMcWUjD25OUc"
      }
    },
    {
      "cell_type": "code",
      "source": [
        "X= cancer_dataset.drop(columns='label', axis= 1)\n",
        "Y = cancer_dataset['label']"
      ],
      "metadata": {
        "id": "HSmDTe335LsF"
      },
      "execution_count": 15,
      "outputs": []
    },
    {
      "cell_type": "code",
      "source": [
        "print(X,Y)"
      ],
      "metadata": {
        "colab": {
          "base_uri": "https://localhost:8080/"
        },
        "id": "7TR3yQcP5e1v",
        "outputId": "7c810c16-3378-4aac-bd26-2e7892ffc482"
      },
      "execution_count": 16,
      "outputs": [
        {
          "output_type": "stream",
          "name": "stdout",
          "text": [
            "     mean radius  mean texture  mean perimeter  mean area  mean smoothness  \\\n",
            "0          17.99         10.38          122.80     1001.0          0.11840   \n",
            "1          20.57         17.77          132.90     1326.0          0.08474   \n",
            "2          19.69         21.25          130.00     1203.0          0.10960   \n",
            "3          11.42         20.38           77.58      386.1          0.14250   \n",
            "4          20.29         14.34          135.10     1297.0          0.10030   \n",
            "..           ...           ...             ...        ...              ...   \n",
            "564        21.56         22.39          142.00     1479.0          0.11100   \n",
            "565        20.13         28.25          131.20     1261.0          0.09780   \n",
            "566        16.60         28.08          108.30      858.1          0.08455   \n",
            "567        20.60         29.33          140.10     1265.0          0.11780   \n",
            "568         7.76         24.54           47.92      181.0          0.05263   \n",
            "\n",
            "     mean compactness  mean concavity  mean concave points  mean symmetry  \\\n",
            "0             0.27760         0.30010              0.14710         0.2419   \n",
            "1             0.07864         0.08690              0.07017         0.1812   \n",
            "2             0.15990         0.19740              0.12790         0.2069   \n",
            "3             0.28390         0.24140              0.10520         0.2597   \n",
            "4             0.13280         0.19800              0.10430         0.1809   \n",
            "..                ...             ...                  ...            ...   \n",
            "564           0.11590         0.24390              0.13890         0.1726   \n",
            "565           0.10340         0.14400              0.09791         0.1752   \n",
            "566           0.10230         0.09251              0.05302         0.1590   \n",
            "567           0.27700         0.35140              0.15200         0.2397   \n",
            "568           0.04362         0.00000              0.00000         0.1587   \n",
            "\n",
            "     mean fractal dimension  ...  worst radius  worst texture  \\\n",
            "0                   0.07871  ...        25.380          17.33   \n",
            "1                   0.05667  ...        24.990          23.41   \n",
            "2                   0.05999  ...        23.570          25.53   \n",
            "3                   0.09744  ...        14.910          26.50   \n",
            "4                   0.05883  ...        22.540          16.67   \n",
            "..                      ...  ...           ...            ...   \n",
            "564                 0.05623  ...        25.450          26.40   \n",
            "565                 0.05533  ...        23.690          38.25   \n",
            "566                 0.05648  ...        18.980          34.12   \n",
            "567                 0.07016  ...        25.740          39.42   \n",
            "568                 0.05884  ...         9.456          30.37   \n",
            "\n",
            "     worst perimeter  worst area  worst smoothness  worst compactness  \\\n",
            "0             184.60      2019.0           0.16220            0.66560   \n",
            "1             158.80      1956.0           0.12380            0.18660   \n",
            "2             152.50      1709.0           0.14440            0.42450   \n",
            "3              98.87       567.7           0.20980            0.86630   \n",
            "4             152.20      1575.0           0.13740            0.20500   \n",
            "..               ...         ...               ...                ...   \n",
            "564           166.10      2027.0           0.14100            0.21130   \n",
            "565           155.00      1731.0           0.11660            0.19220   \n",
            "566           126.70      1124.0           0.11390            0.30940   \n",
            "567           184.60      1821.0           0.16500            0.86810   \n",
            "568            59.16       268.6           0.08996            0.06444   \n",
            "\n",
            "     worst concavity  worst concave points  worst symmetry  \\\n",
            "0             0.7119                0.2654          0.4601   \n",
            "1             0.2416                0.1860          0.2750   \n",
            "2             0.4504                0.2430          0.3613   \n",
            "3             0.6869                0.2575          0.6638   \n",
            "4             0.4000                0.1625          0.2364   \n",
            "..               ...                   ...             ...   \n",
            "564           0.4107                0.2216          0.2060   \n",
            "565           0.3215                0.1628          0.2572   \n",
            "566           0.3403                0.1418          0.2218   \n",
            "567           0.9387                0.2650          0.4087   \n",
            "568           0.0000                0.0000          0.2871   \n",
            "\n",
            "     worst fractal dimension  \n",
            "0                    0.11890  \n",
            "1                    0.08902  \n",
            "2                    0.08758  \n",
            "3                    0.17300  \n",
            "4                    0.07678  \n",
            "..                       ...  \n",
            "564                  0.07115  \n",
            "565                  0.06637  \n",
            "566                  0.07820  \n",
            "567                  0.12400  \n",
            "568                  0.07039  \n",
            "\n",
            "[569 rows x 30 columns] 0      0\n",
            "1      0\n",
            "2      0\n",
            "3      0\n",
            "4      0\n",
            "      ..\n",
            "564    0\n",
            "565    0\n",
            "566    0\n",
            "567    0\n",
            "568    1\n",
            "Name: label, Length: 569, dtype: int64\n"
          ]
        }
      ]
    },
    {
      "cell_type": "markdown",
      "source": [
        "# Splitting the data into train and test"
      ],
      "metadata": {
        "id": "ROfmhocc5lZ2"
      }
    },
    {
      "cell_type": "code",
      "source": [
        "X_train, X_test, Y_train, Y_test = train_test_split(X,Y, test_size = 0.2, random_state=2)"
      ],
      "metadata": {
        "id": "J45yTZfv5kCV"
      },
      "execution_count": 17,
      "outputs": []
    },
    {
      "cell_type": "code",
      "source": [
        "print(X.shape, X_train.shape, X_test.shape)"
      ],
      "metadata": {
        "colab": {
          "base_uri": "https://localhost:8080/"
        },
        "id": "5IQX2NTt5zhe",
        "outputId": "b5048118-a77b-4d51-dce0-1f7f065aa6b7"
      },
      "execution_count": 18,
      "outputs": [
        {
          "output_type": "stream",
          "name": "stdout",
          "text": [
            "(569, 30) (455, 30) (114, 30)\n"
          ]
        }
      ]
    },
    {
      "cell_type": "markdown",
      "source": [
        "**Data Standardization**"
      ],
      "metadata": {
        "id": "PssHcveAHIIJ"
      }
    },
    {
      "cell_type": "code",
      "source": [
        "from sklearn.preprocessing import StandardScaler"
      ],
      "metadata": {
        "id": "1GNB0EWiHNdu"
      },
      "execution_count": 25,
      "outputs": []
    },
    {
      "cell_type": "code",
      "source": [
        "scaler = StandardScaler()\n",
        "\n",
        "\n",
        "X_train_std = scaler.fit_transform(X_train)\n",
        "\n",
        "X_test_std = scaler.transform(X_test)"
      ],
      "metadata": {
        "id": "sqNfbg5NHRSi"
      },
      "execution_count": 26,
      "outputs": []
    },
    {
      "cell_type": "markdown",
      "source": [
        "# Building a Neural Network\n",
        "\n",
        "![neural_net2.jpeg](data:image/jpeg;base64,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)"
      ],
      "metadata": {
        "id": "tan87KJq55VC"
      }
    },
    {
      "cell_type": "code",
      "source": [
        "# importing tensorflow and keras\n",
        "\n",
        "import tensorflow as tf\n",
        "tf.random.set_seed(3)  #seed() helps in giving same accuracy no matter how many time the system would be run.\n",
        "from tensorflow import keras\n"
      ],
      "metadata": {
        "id": "dHZS6saA530J"
      },
      "execution_count": 27,
      "outputs": []
    },
    {
      "cell_type": "code",
      "source": [
        "\n",
        "# setting up the layers of Neural Networks\n",
        "\n",
        "model = keras.Sequential([\n",
        "                            keras.layers.Flatten(input_shape=(30,)),     # input layer , flatten=converting the matrix into one dimensional array\n",
        "                            keras.layers.Dense(20, activation='relu') ,  # hidden layer, dense = it means value is depend on previous step\n",
        "                            keras.layers.Dense(2, activation= 'sigmoid') # output layer , 2= no. of target\n",
        "])"
      ],
      "metadata": {
        "id": "-jmp3RIU8Yv-"
      },
      "execution_count": 30,
      "outputs": []
    },
    {
      "cell_type": "code",
      "source": [
        "# compile the model\n",
        "\n",
        "model.compile(optimizer='adam',\n",
        "              loss='sparse_categorical_crossentropy',  #sparase_categorical_crossentropy used for labeling like dog = 1 & cat = 2\n",
        "              metrics= ['accuracy'])"
      ],
      "metadata": {
        "id": "j9q8maLMDX8o"
      },
      "execution_count": 32,
      "outputs": []
    },
    {
      "cell_type": "markdown",
      "source": [
        "# Training a model"
      ],
      "metadata": {
        "id": "IKMkbApuF0Gl"
      }
    },
    {
      "cell_type": "code",
      "source": [
        "history = model.fit(X_train_std, Y_train, validation_split=0.1, epochs=10)"
      ],
      "metadata": {
        "colab": {
          "base_uri": "https://localhost:8080/"
        },
        "id": "Hv2y0ZJfFy1f",
        "outputId": "ed2f715d-3eb4-418e-950b-39012cf7445e"
      },
      "execution_count": 33,
      "outputs": [
        {
          "output_type": "stream",
          "name": "stdout",
          "text": [
            "Epoch 1/10\n",
            "13/13 [==============================] - 1s 18ms/step - loss: 0.9939 - accuracy: 0.5086 - val_loss: 0.8772 - val_accuracy: 0.6087\n",
            "Epoch 2/10\n",
            "13/13 [==============================] - 0s 4ms/step - loss: 0.6055 - accuracy: 0.7408 - val_loss: 0.5299 - val_accuracy: 0.8043\n",
            "Epoch 3/10\n",
            "13/13 [==============================] - 0s 5ms/step - loss: 0.3928 - accuracy: 0.8435 - val_loss: 0.3648 - val_accuracy: 0.8261\n",
            "Epoch 4/10\n",
            "13/13 [==============================] - 0s 5ms/step - loss: 0.3000 - accuracy: 0.8900 - val_loss: 0.2801 - val_accuracy: 0.8696\n",
            "Epoch 5/10\n",
            "13/13 [==============================] - 0s 4ms/step - loss: 0.2486 - accuracy: 0.9144 - val_loss: 0.2326 - val_accuracy: 0.9130\n",
            "Epoch 6/10\n",
            "13/13 [==============================] - 0s 6ms/step - loss: 0.2178 - accuracy: 0.9267 - val_loss: 0.2006 - val_accuracy: 0.9130\n",
            "Epoch 7/10\n",
            "13/13 [==============================] - 0s 4ms/step - loss: 0.1946 - accuracy: 0.9462 - val_loss: 0.1788 - val_accuracy: 0.9348\n",
            "Epoch 8/10\n",
            "13/13 [==============================] - 0s 7ms/step - loss: 0.1765 - accuracy: 0.9511 - val_loss: 0.1638 - val_accuracy: 0.9565\n",
            "Epoch 9/10\n",
            "13/13 [==============================] - 0s 6ms/step - loss: 0.1628 - accuracy: 0.9511 - val_loss: 0.1515 - val_accuracy: 0.9565\n",
            "Epoch 10/10\n",
            "13/13 [==============================] - 0s 5ms/step - loss: 0.1505 - accuracy: 0.9511 - val_loss: 0.1429 - val_accuracy: 0.9565\n"
          ]
        }
      ]
    },
    {
      "cell_type": "markdown",
      "source": [
        "# Visualizing the accuracy and loss"
      ],
      "metadata": {
        "id": "rwmFs8cGJOge"
      }
    },
    {
      "cell_type": "code",
      "source": [
        "# visualizing the accuracy\n",
        "\n",
        "plt.plot(history.history['accuracy'])\n",
        "plt.plot(history.history['val_accuracy'])\n",
        "\n",
        "plt.title(\"Model Accuracy\")\n",
        "plt.xlabel(\"Epochs\")\n",
        "plt.ylabel(\"Accuracy\")\n",
        "\n",
        "plt.legend(['training data', 'validation data'], loc='lower right')"
      ],
      "metadata": {
        "colab": {
          "base_uri": "https://localhost:8080/",
          "height": 489
        },
        "id": "P6vYJsF6GSaO",
        "outputId": "60ccc369-83e0-4913-cc09-dd9d75b95e4f"
      },
      "execution_count": 34,
      "outputs": [
        {
          "output_type": "execute_result",
          "data": {
            "text/plain": [
              "<matplotlib.legend.Legend at 0x7f9464daeaa0>"
            ]
          },
          "metadata": {},
          "execution_count": 34
        },
        {
          "output_type": "display_data",
          "data": {
            "text/plain": [
              "<Figure size 640x480 with 1 Axes>"
            ],
            "image/png": "[encoded data removed]"
          },
          "metadata": {}
        }
      ]
    },
    {
      "cell_type": "code",
      "source": [
        "# visualizing the loss\n",
        "plt.plot(history.history['loss'])\n",
        "plt.plot(history.history['val_loss'])\n",
        "\n",
        "plt.title(\"Model Loss\")\n",
        "plt.xlabel(\"Epochs\")\n",
        "plt.ylabel(\"loss\")\n",
        "\n",
        "plt.legend(['training data', 'validation data'], loc='upper right')"
      ],
      "metadata": {
        "colab": {
          "base_uri": "https://localhost:8080/",
          "height": 489
        },
        "id": "KywrvH6SKbs8",
        "outputId": "c668150d-89a5-4715-9b77-69576421d079"
      },
      "execution_count": 35,
      "outputs": [
        {
          "output_type": "execute_result",
          "data": {
            "text/plain": [
              "<matplotlib.legend.Legend at 0x7f9464558070>"
            ]
          },
          "metadata": {},
          "execution_count": 35
        },
        {
          "output_type": "display_data",
          "data": {
            "text/plain": [
              "<Figure size 640x480 with 1 Axes>"
            ],
            "image/png": "[encoded data removed]"
          },
          "metadata": {}
        }
      ]
    },
    {
      "cell_type": "markdown",
      "source": [
        "**Accuracy of the model in a test data**"
      ],
      "metadata": {
        "id": "3-0TS6SHLr5i"
      }
    },
    {
      "cell_type": "code",
      "source": [
        "loss , accuracy = model.evaluate(X_test_std, Y_test)\n",
        "print(accuracy)"
      ],
      "metadata": {
        "colab": {
          "base_uri": "https://localhost:8080/"
        },
        "id": "g_cnoJcLLFox",
        "outputId": "b12a99a9-1696-4cf8-8019-315096a1403c"
      },
      "execution_count": 36,
      "outputs": [
        {
          "output_type": "stream",
          "name": "stdout",
          "text": [
            "4/4 [==============================] - 0s 11ms/step - loss: 0.1239 - accuracy: 0.9561\n",
            "0.9561403393745422\n"
          ]
        }
      ]
    },
    {
      "cell_type": "code",
      "source": [
        "print(X_test_std.shape)\n",
        "print(X_test_std[0])"
      ],
      "metadata": {
        "colab": {
          "base_uri": "https://localhost:8080/"
        },
        "id": "R9PkXq4zL4Sf",
        "outputId": "840934eb-0d79-43a7-d5f3-1d29d5860a9a"
      },
      "execution_count": 37,
      "outputs": [
        {
          "output_type": "stream",
          "name": "stdout",
          "text": [
            "(114, 30)\n",
            "[-0.04462793 -1.41612656 -0.05903514 -0.16234067  2.0202457  -0.11323672\n",
            "  0.18500609  0.47102419  0.63336386  0.26335737  0.53209124  2.62763999\n",
            "  0.62351167  0.11405261  1.01246781  0.41126289  0.63848593  2.88971815\n",
            " -0.41675911  0.74270853 -0.32983699 -1.67435595 -0.36854552 -0.38767294\n",
            "  0.32655007 -0.74858917 -0.54689089 -0.18278004 -1.23064515 -0.6268286 ]\n"
          ]
        }
      ]
    },
    {
      "cell_type": "code",
      "source": [
        "Y_pred = model.predict(X_test_std)"
      ],
      "metadata": {
        "colab": {
          "base_uri": "https://localhost:8080/"
        },
        "id": "_NoG3ox4NXiG",
        "outputId": "b3e2bdc9-9e72-4010-a984-8f1f7ed2c75b"
      },
      "execution_count": 38,
      "outputs": [
        {
          "output_type": "stream",
          "name": "stdout",
          "text": [
            "4/4 [==============================] - 0s 4ms/step\n"
          ]
        }
      ]
    },
    {
      "cell_type": "code",
      "source": [
        "print(Y_pred.shape)\n",
        "print(Y_pred[0])"
      ],
      "metadata": {
        "colab": {
          "base_uri": "https://localhost:8080/"
        },
        "id": "k8tEVp6SNd4a",
        "outputId": "0ee85990-f750-4a25-9639-18822b62800a"
      },
      "execution_count": 39,
      "outputs": [
        {
          "output_type": "stream",
          "name": "stdout",
          "text": [
            "(114, 2)\n",
            "[0.1122817 0.918685 ]\n"
          ]
        }
      ]
    },
    {
      "cell_type": "code",
      "source": [
        "print(X_test_std)"
      ],
      "metadata": {
        "colab": {
          "base_uri": "https://localhost:8080/"
        },
        "id": "k0UjHMjyNlVn",
        "outputId": "c9a1aaa0-0c6e-4255-ca16-4c37deef02cc"
      },
      "execution_count": 40,
      "outputs": [
        {
          "output_type": "stream",
          "name": "stdout",
          "text": [
            "[[-0.04462793 -1.41612656 -0.05903514 ... -0.18278004 -1.23064515\n",
            "  -0.6268286 ]\n",
            " [ 0.24583601 -0.06219797  0.21802678 ...  0.54129749  0.11047691\n",
            "   0.0483572 ]\n",
            " [-1.26115925 -0.29051645 -1.26499659 ... -1.35138617  0.269338\n",
            "  -0.28231213]\n",
            " ...\n",
            " [ 0.72709489  0.45836817  0.75277276 ...  1.46701686  1.19909344\n",
            "   0.65319961]\n",
            " [ 0.25437907  1.33054477  0.15659489 ... -1.29043534 -2.22561725\n",
            "  -1.59557344]\n",
            " [ 0.84100232 -0.06676434  0.8929529  ...  2.15137705  0.35629355\n",
            "   0.37459546]]\n"
          ]
        }
      ]
    },
    {
      "cell_type": "code",
      "source": [
        "print(Y_pred)"
      ],
      "metadata": {
        "colab": {
          "base_uri": "https://localhost:8080/"
        },
        "id": "E_SWathQNt8M",
        "outputId": "361e0d06-1427-4579-de78-e78c715cdd7b"
      },
      "execution_count": 41,
      "outputs": [
        {
          "output_type": "stream",
          "name": "stdout",
          "text": [
            "[[1.12281695e-01 9.18685019e-01]\n",
            " [3.75993371e-01 4.42581654e-01]\n",
            " [5.60571365e-02 8.09988439e-01]\n",
            " [9.97698426e-01 9.87215666e-04]\n",
            " [4.73378241e-01 3.96213681e-01]\n",
            " [9.83056605e-01 3.28203849e-02]\n",
            " [2.76672751e-01 6.76566243e-01]\n",
            " [2.68956125e-02 6.74956024e-01]\n",
            " [1.32410213e-01 7.52385080e-01]\n",
            " [5.11944965e-02 7.32673824e-01]\n",
            " [5.00901222e-01 5.24952173e-01]\n",
            " [1.84973389e-01 7.10029721e-01]\n",
            " [7.35215768e-02 9.02214706e-01]\n",
            " [2.25406304e-01 7.22201943e-01]\n",
            " [1.13517724e-01 8.04122448e-01]\n",
            " [9.46669817e-01 1.76306352e-01]\n",
            " [7.73715004e-02 7.93919444e-01]\n",
            " [6.45147637e-02 9.44506407e-01]\n",
            " [1.32309675e-01 8.76340687e-01]\n",
            " [8.52771282e-01 4.54823747e-02]\n",
            " [5.30356705e-01 9.92939532e-01]\n",
            " [6.31085485e-02 7.07962692e-01]\n",
            " [1.05834112e-01 7.58644640e-01]\n",
            " [1.74816977e-02 7.17132986e-01]\n",
            " [9.96714756e-02 6.94069624e-01]\n",
            " [9.45157051e-01 1.40858144e-01]\n",
            " [1.81876019e-01 5.28978407e-01]\n",
            " [2.79668689e-01 4.27841336e-01]\n",
            " [8.72161686e-01 2.21198067e-01]\n",
            " [9.51774001e-01 2.25134969e-01]\n",
            " [9.00760889e-02 6.44371092e-01]\n",
            " [9.89429057e-02 8.15045416e-01]\n",
            " [5.69023266e-02 8.00534070e-01]\n",
            " [9.88661170e-01 6.90989271e-02]\n",
            " [9.39122558e-01 5.91396578e-02]\n",
            " [2.92791426e-01 7.98835337e-01]\n",
            " [5.54292314e-02 6.97482169e-01]\n",
            " [2.69116968e-01 5.98882318e-01]\n",
            " [3.81621197e-02 8.45422268e-01]\n",
            " [1.42751783e-01 8.74051571e-01]\n",
            " [9.84362245e-01 1.74775673e-03]\n",
            " [7.06619978e-01 3.57014298e-01]\n",
            " [1.00521244e-01 5.89531779e-01]\n",
            " [7.15731680e-02 9.36039150e-01]\n",
            " [6.36580527e-01 1.58724725e-01]\n",
            " [1.04692623e-01 7.51757681e-01]\n",
            " [2.27233283e-02 9.34346318e-01]\n",
            " [4.68900204e-02 7.99600959e-01]\n",
            " [9.81752932e-01 1.21841930e-01]\n",
            " [9.03155267e-01 2.20553070e-01]\n",
            " [4.34320644e-02 6.92395926e-01]\n",
            " [7.46862948e-01 3.32280874e-01]\n",
            " [3.33215386e-01 4.16853786e-01]\n",
            " [1.14180222e-01 7.21868634e-01]\n",
            " [5.48841767e-02 8.00196469e-01]\n",
            " [2.55127847e-01 4.28785414e-01]\n",
            " [6.22252598e-02 8.38778913e-01]\n",
            " [3.99039984e-02 9.06265259e-01]\n",
            " [1.58477858e-01 2.21251454e-02]\n",
            " [1.49765015e-01 8.99186015e-01]\n",
            " [2.71233350e-01 6.36011899e-01]\n",
            " [9.38025177e-01 6.65076450e-02]\n",
            " [4.66693230e-02 8.15355480e-01]\n",
            " [9.04247463e-01 6.45843372e-02]\n",
            " [9.05277491e-01 3.68558347e-01]\n",
            " [7.93830633e-01 6.19693577e-01]\n",
            " [9.88665521e-01 1.23687483e-01]\n",
            " [8.47888470e-01 3.16268235e-01]\n",
            " [2.60354131e-01 4.65637028e-01]\n",
            " [2.53327131e-01 2.01427624e-01]\n",
            " [7.83751667e-01 1.43110946e-01]\n",
            " [9.10163224e-01 3.59815508e-02]\n",
            " [1.12306170e-01 8.01295221e-01]\n",
            " [8.34271550e-01 2.94636220e-01]\n",
            " [1.67925581e-02 8.25142622e-01]\n",
            " [6.48733616e-01 2.05092400e-01]\n",
            " [1.29591808e-01 8.25346828e-01]\n",
            " [1.74052976e-02 8.78609896e-01]\n",
            " [2.29874358e-01 7.31840551e-01]\n",
            " [5.11228621e-01 3.25854987e-01]\n",
            " [9.24826384e-01 9.79550853e-02]\n",
            " [6.47373259e-01 2.74034142e-01]\n",
            " [8.40453625e-01 6.96851537e-02]\n",
            " [2.85090566e-01 7.48573184e-01]\n",
            " [2.26611868e-01 6.93251908e-01]\n",
            " [3.58628869e-01 5.05008698e-01]\n",
            " [1.36466131e-01 9.80437994e-01]\n",
            " [3.86331305e-02 7.58134902e-01]\n",
            " [2.40210295e-01 7.59608626e-01]\n",
            " [9.74871874e-01 1.61999837e-02]\n",
            " [7.65621290e-02 8.59331727e-01]\n",
            " [1.29494786e-01 5.95789135e-01]\n",
            " [2.77978420e-01 9.61435318e-01]\n",
            " [8.20967734e-01 1.56694666e-01]\n",
            " [5.79112470e-01 3.33552510e-01]\n",
            " [9.26803797e-02 5.68901300e-01]\n",
            " [9.40417230e-01 1.06788732e-01]\n",
            " [7.21860945e-01 5.55712096e-02]\n",
            " [1.93819314e-01 6.28367901e-01]\n",
            " [4.87992465e-02 7.82303989e-01]\n",
            " [1.34673063e-02 8.52262676e-01]\n",
            " [5.24609208e-01 2.30761394e-01]\n",
            " [9.96809959e-01 6.57514632e-02]\n",
            " [9.82127726e-01 1.61248278e-02]\n",
            " [1.74139276e-01 6.29819870e-01]\n",
            " [6.07879013e-02 9.19868767e-01]\n",
            " [7.93163776e-02 9.61142719e-01]\n",
            " [2.27495298e-01 9.32995975e-01]\n",
            " [4.31443844e-03 9.17031944e-01]\n",
            " [4.20158744e-01 5.60252428e-01]\n",
            " [9.81691837e-01 1.61756456e-01]\n",
            " [9.66710508e-01 7.09446520e-02]\n",
            " [5.64470232e-01 3.09915364e-01]\n",
            " [9.06310797e-01 9.17204693e-02]]\n"
          ]
        }
      ]
    },
    {
      "cell_type": "markdown",
      "source": [
        "**model.predict() gives the prediction probability of each class for that data point**"
      ],
      "metadata": {
        "id": "HSLVP1XcOGB4"
      }
    },
    {
      "cell_type": "code",
      "source": [
        "# argmax function = it helps to find out the index of max value\n",
        "\n",
        "values = [10,20,30,40,50]\n",
        "\n",
        "index_of_max_value = np.argmax(values)\n",
        "\n",
        "print(values)\n",
        "print(index_of_max_value)"
      ],
      "metadata": {
        "colab": {
          "base_uri": "https://localhost:8080/"
        },
        "id": "oYkJ2lYWO5GK",
        "outputId": "72cba160-c020-42a5-a12a-287d0936f7d0"
      },
      "execution_count": 42,
      "outputs": [
        {
          "output_type": "stream",
          "name": "stdout",
          "text": [
            "[10, 20, 30, 40, 50]\n",
            "4\n"
          ]
        }
      ]
    },
    {
      "cell_type": "code",
      "source": [
        "# converting the prediction probability to class labels\n",
        "\n",
        "Y_pred_labels = [np.argmax(i) for i in Y_pred]\n",
        "print(Y_pred_labels)"
      ],
      "metadata": {
        "colab": {
          "base_uri": "https://localhost:8080/"
        },
        "id": "khP3pAvHNv-0",
        "outputId": "092b49c1-e093-476b-9b66-8a17048b17bd"
      },
      "execution_count": 43,
      "outputs": [
        {
          "output_type": "stream",
          "name": "stdout",
          "text": [
            "[1, 1, 1, 0, 0, 0, 1, 1, 1, 1, 1, 1, 1, 1, 1, 0, 1, 1, 1, 0, 1, 1, 1, 1, 1, 0, 1, 1, 0, 0, 1, 1, 1, 0, 0, 1, 1, 1, 1, 1, 0, 0, 1, 1, 0, 1, 1, 1, 0, 0, 1, 0, 1, 1, 1, 1, 1, 1, 0, 1, 1, 0, 1, 0, 0, 0, 0, 0, 1, 0, 0, 0, 1, 0, 1, 0, 1, 1, 1, 0, 0, 0, 0, 1, 1, 1, 1, 1, 1, 0, 1, 1, 1, 0, 0, 1, 0, 0, 1, 1, 1, 0, 0, 0, 1, 1, 1, 1, 1, 1, 0, 0, 0, 0]\n"
          ]
        }
      ]
    },
    {
      "cell_type": "markdown",
      "source": [
        "# Building a predictive model"
      ],
      "metadata": {
        "id": "lFYjNZQvQ8MV"
      }
    },
    {
      "cell_type": "code",
      "source": [
        "input_data = (13.54,14.36,87.46,566.3,0.09779,0.08129,0.06664,0.04781,0.1885,0.05766,0.2699,0.7886,2.058,23.56,0.008462,0.0146,0.02387,0.01315,0.0198,0.0023,15.11,19.26,99.7,711.2,0.144,0.1773,0.239,0.1288,0.2977,0.07259)\n",
        "\n",
        "\n",
        "# converting the input data to numpy array\n",
        "input_data_as_array = np.asarray(input_data)\n",
        "\n",
        "#reshaping the numpy array\n",
        "input_data_reshaped = input_data_as_array.reshape(1,-1)\n",
        "\n",
        "#standardize the data\n",
        "input_data_std = scaler.transform(input_data_reshaped)\n",
        "\n",
        "#prediction\n",
        "prediction = model.predict(input_data_std)\n",
        "print(prediction)\n",
        "\n",
        "#prediction labeling\n",
        "prediction_label = [np.argmax(prediction)]\n",
        "print(prediction_label)\n",
        "\n",
        "#if/else statement\n",
        "\n",
        "if (prediction_label[0]==0):\n",
        "  print(\"The tumor is a Malignant\")\n",
        "\n",
        "else:\n",
        "  print(\"The tumor is a Benign \")"
      ],
      "metadata": {
        "colab": {
          "base_uri": "https://localhost:8080/"
        },
        "id": "LUGc6_etPwRh",
        "outputId": "1e37de8b-ab53-4832-f4ca-265d3e114207"
      },
      "execution_count": 46,
      "outputs": [
        {
          "output_type": "stream",
          "name": "stdout",
          "text": [
            "1/1 [==============================] - 0s 23ms/step\n",
            "[[0.12722917 0.8013865 ]]\n",
            "[1]\n",
            "The tumor is a Benign \n"
          ]
        },
        {
          "output_type": "stream",
          "name": "stderr",
          "text": [
            "/usr/local/lib/python3.10/dist-packages/sklearn/base.py:439: UserWarning: X does not have valid feature names, but StandardScaler was fitted with feature names\n",
            "  warnings.warn(\n"
          ]
        }
      ]
    },
    {
      "cell_type": "code",
      "source": [],
      "metadata": {
        "id": "WF3mTdW0Sc-T"
      },
      "execution_count": null,
      "outputs": []
    }
  ]
}